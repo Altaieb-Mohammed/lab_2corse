{
  "nbformat": 4,
  "nbformat_minor": 0,
  "metadata": {
    "colab": {
      "provenance": [],
      "authorship_tag": "ABX9TyM3ycysAQ+9aMbIzu2qucM2",
      "include_colab_link": true
    },
    "kernelspec": {
      "name": "python3",
      "display_name": "Python 3"
    },
    "language_info": {
      "name": "python"
    }
  },
  "cells": [
    {
      "cell_type": "markdown",
      "metadata": {
        "id": "view-in-github",
        "colab_type": "text"
      },
      "source": [
        "<a href=\"https://colab.research.google.com/github/Altaieb-Mohammed/lab_2corse/blob/master/c_lab3.ipynb\" target=\"_parent\"><img src=\"https://colab.research.google.com/assets/colab-badge.svg\" alt=\"Open In Colab\"/></a>"
      ]
    },
    {
      "cell_type": "code",
      "source": [
        "import pandas as pd\n",
        "from sklearn.model_selection import train_test_split\n",
        "from sklearn.preprocessing import StandardScaler\n",
        "\n",
        "\n",
        "url = \"https://raw.githubusercontent.com/Altaieb-Mohammed/lab_2corse/master/inheritance_dataset.csv\"\n",
        "\n",
        "df = pd.read_csv(url)\n",
        "# Выберем признаки и целевой признак\n",
        "# Например, классифицируем наличие мужа (husband) по числовым признакам и другим категориальным\n",
        "features = ['estate', 'debts', 'wills', 'wives', 'father', 'mother',\n",
        "            'sons', 'daughters', 'brothers_m', 'sisters_m', 'grandfather', 'grandmother']\n",
        "target = 'husband'  # бинарная классификация\n",
        "\n",
        "# Преобразуем булевы признаки в int для модели\n",
        "df['father'] = df['father'].astype(int)\n",
        "df['mother'] = df['mother'].astype(int)\n",
        "df['grandfather'] = df['grandfather'].astype(int)\n",
        "df['grandmother'] = df['grandmother'].astype(int)\n",
        "\n",
        "X = df[features]\n",
        "y = df[target].astype(int)\n",
        "\n",
        "# Разделим на обучающую и тестовую выборки\n",
        "X_train, X_test, y_train, y_test = train_test_split(X, y, test_size=0.3, random_state=42, stratify=y)\n",
        "\n",
        "# Масштабируем признаки\n",
        "scaler = StandardScaler()\n",
        "X_train_scaled = scaler.fit_transform(X_train)\n",
        "X_test_scaled = scaler.transform(X_test)\n"
      ],
      "metadata": {
        "id": "k05tPVQyTyqS"
      },
      "execution_count": 29,
      "outputs": []
    },
    {
      "cell_type": "code",
      "source": [
        "from sklearn.neighbors import KNeighborsClassifier\n",
        "from sklearn.metrics import classification_report, accuracy_score\n",
        "\n",
        "# Создаем и обучаем модель k-NN\n",
        "knn = KNeighborsClassifier(n_neighbors=5)\n",
        "knn.fit(X_train_scaled, y_train)\n",
        "\n",
        "# Предсказываем и оцениваем\n",
        "y_pred = knn.predict(X_test_scaled)\n",
        "print(\"Оценка модели k-NN до снижения размерности:\")\n",
        "print(classification_report(y_test, y_pred))\n",
        "print(f\"Точность: {accuracy_score(y_test, y_pred):.4f}\")\n"
      ],
      "metadata": {
        "id": "zKvxCLQ-bayP",
        "outputId": "ec147a46-1e9c-4ff3-e3bb-1a63301127c3",
        "colab": {
          "base_uri": "https://localhost:8080/"
        }
      },
      "execution_count": 24,
      "outputs": [
        {
          "output_type": "stream",
          "name": "stdout",
          "text": [
            "Оценка модели k-NN до снижения размерности:\n",
            "              precision    recall  f1-score   support\n",
            "\n",
            "           0       0.62      0.54      0.58      3019\n",
            "           1       0.59      0.66      0.62      2981\n",
            "\n",
            "    accuracy                           0.60      6000\n",
            "   macro avg       0.60      0.60      0.60      6000\n",
            "weighted avg       0.60      0.60      0.60      6000\n",
            "\n",
            "Точность: 0.5988\n"
          ]
        }
      ]
    },
    {
      "cell_type": "code",
      "source": [
        "from sklearn.decomposition import PCA\n",
        "\n",
        "# Создаем PCA, оставим компоненты, объясняющие 95% дисперсии\n",
        "pca = PCA(n_components=0.95, random_state=42)\n",
        "X_train_pca = pca.fit_transform(X_train_scaled)\n",
        "X_test_pca = pca.transform(X_test_scaled)\n",
        "\n",
        "print(f\"Количество компонент после PCA: {pca.n_components_}\")\n"
      ],
      "metadata": {
        "id": "TPchUhhTbgAD",
        "outputId": "55a6843c-660a-429e-baf6-23e30ff50a3b",
        "colab": {
          "base_uri": "https://localhost:8080/"
        }
      },
      "execution_count": 25,
      "outputs": [
        {
          "output_type": "stream",
          "name": "stdout",
          "text": [
            "Количество компонент после PCA: 11\n"
          ]
        }
      ]
    },
    {
      "cell_type": "code",
      "source": [
        "# Обучаем k-NN на данных после PCA\n",
        "knn_pca = KNeighborsClassifier(n_neighbors=5)\n",
        "knn_pca.fit(X_train_pca, y_train)\n",
        "\n",
        "# Предсказываем и оцениваем\n",
        "y_pred_pca = knn_pca.predict(X_test_pca)\n",
        "print(\"Оценка модели k-NN после снижения размерности (PCA):\")\n",
        "print(classification_report(y_test, y_pred_pca))\n",
        "print(f\"Точность: {accuracy_score(y_test, y_pred_pca):.4f}\")\n"
      ],
      "metadata": {
        "id": "BFhmHxdYblS6",
        "outputId": "c23c993f-c498-4c2c-eae0-7b492c305f50",
        "colab": {
          "base_uri": "https://localhost:8080/"
        }
      },
      "execution_count": 26,
      "outputs": [
        {
          "output_type": "stream",
          "name": "stdout",
          "text": [
            "Оценка модели k-NN после снижения размерности (PCA):\n",
            "              precision    recall  f1-score   support\n",
            "\n",
            "           0       0.62      0.55      0.58      3019\n",
            "           1       0.59      0.66      0.62      2981\n",
            "\n",
            "    accuracy                           0.60      6000\n",
            "   macro avg       0.61      0.61      0.60      6000\n",
            "weighted avg       0.61      0.60      0.60      6000\n",
            "\n",
            "Точность: 0.6048\n"
          ]
        }
      ]
    },
    {
      "cell_type": "code",
      "source": [
        "import matplotlib.pyplot as plt\n",
        "import numpy as np\n",
        "\n",
        "# График объяснённой дисперсии по компонентам\n",
        "plt.figure(figsize=(8,5))\n",
        "plt.plot(np.cumsum(pca.explained_variance_ratio_)*100, marker='o')\n",
        "plt.xlabel('Количество компонент')\n",
        "plt.ylabel('Объяснённая дисперсия (%)')\n",
        "plt.title('Объяснённая дисперсия по компонентам PCA')\n",
        "plt.grid(True)\n",
        "plt.show()\n"
      ],
      "metadata": {
        "id": "hqSM5QPBbuFH",
        "outputId": "1abb9c95-32d4-4d41-c39e-18833efa37a5",
        "colab": {
          "base_uri": "https://localhost:8080/",
          "height": 487
        }
      },
      "execution_count": 27,
      "outputs": [
        {
          "output_type": "display_data",
          "data": {
            "text/plain": [
              "<Figure size 800x500 with 1 Axes>"
            ],
            "image/png": "[encoded data removed]"
          },
          "metadata": {}
        }
      ]
    },
    {
      "cell_type": "code",
      "source": [
        "print(\"\"\"\n",
        "5. Выводы:\n",
        "- Классификация k-NN на исходных данных показала точность около ... (зависит от данных).\n",
        "- Снижение размерности с помощью PCA позволило сократить число признаков с ... до {pca.n_components_}.\n",
        "- После PCA точность модели k-NN осталась на сопоставимом уровне, что говорит о сохранении информативности.\n",
        "- PCA помогает уменьшить размерность и шум, что полезно для сложных и многомерных данных.\n",
        "\"\"\")\n"
      ],
      "metadata": {
        "id": "q8F4mECAbzHn",
        "outputId": "8ac14502-b638-4ff9-e385-554de89d1d36",
        "colab": {
          "base_uri": "https://localhost:8080/"
        }
      },
      "execution_count": 28,
      "outputs": [
        {
          "output_type": "stream",
          "name": "stdout",
          "text": [
            "\n",
            "5. Выводы:\n",
            "- Классификация k-NN на исходных данных показала точность около ... (зависит от данных).\n",
            "- Снижение размерности с помощью PCA позволило сократить число признаков с ... до {pca.n_components_}.\n",
            "- После PCA точность модели k-NN осталась на сопоставимом уровне, что говорит о сохранении информативности.\n",
            "- PCA помогает уменьшить размерность и шум, что полезно для сложных и многомерных данных.\n",
            "\n"
          ]
        }
      ]
    },
    {
      "cell_type": "markdown",
      "source": [
        "\n",
        "### 1. График объяснённой дисперсии PCA\n",
        "\n",
        "- График показывает, что каждая из 11 компонент объясняет примерно одинаковую часть дисперсии (линейный рост).\n",
        "- Это означает, что ваши признаки примерно равнозначны по информативности, и нет одной-двух доминирующих компонент.\n",
        "\n",
        "---\n",
        "\n",
        "### 2. Оценка модели k-NN до и после PCA\n",
        "\n",
        "**До снижения размерности:**\n",
        "- Accuracy: **0.5988**\n",
        "- Precision/Recall/F1-score для классов 0 и 1 примерно одинаковы.\n",
        "- Модель работает чуть лучше случайного угадывания (0.5).\n",
        "\n",
        "**После снижения размерности (PCA):**\n",
        "- Accuracy: **0.6048**\n",
        "- Качество модели практически не изменилось, даже немного улучшилось.\n",
        "- Это говорит о том, что снижение размерности с помощью PCA не привело к потере информации.\n",
        "\n",
        "---\n",
        "\n",
        "### 3. Выводы (можно использовать в отчёте):\n",
        "\n",
        "```text\n",
        "1. Классификация с помощью k-ближайших соседей на исходных данных показала точность 0.60.\n",
        "2. После применения метода главных компонент (PCA) и сокращения размерности до 11 компонент точность модели осталась практически такой же (0.60).\n",
        "3. График объяснённой дисперсии показывает, что все компоненты вносят примерно одинаковый вклад.\n",
        "4. Снижение размерности не ухудшило качество модели, а значит, можно использовать PCA для уменьшения размерности без потери информативности.\n",
        "5. Модель k-NN не сильно чувствительна к снижению размерности на этом датасете.\n",
        "```\n",
        "\n",
        "---\n",
        "\n",
        "### 4. Рекомендации\n",
        "\n",
        "- Можно попробовать уменьшить число компонент PCA до 2–3 и посмотреть, как изменится точность (для визуализации в 2D).\n",
        "- Попробуйте другие модели (например, логистическую регрессию или деревья решений) для сравнения.\n",
        "- Проанализируйте важность признаков (feature importance) для лучшей интерпретации.\n"
      ],
      "metadata": {
        "id": "o_FZh4Rfd4St"
      }
    }
  ]
}