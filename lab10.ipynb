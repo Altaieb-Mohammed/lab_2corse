{
  "nbformat": 4,
  "nbformat_minor": 0,
  "metadata": {
    "colab": {
      "provenance": [],
      "authorship_tag": "ABX9TyMZ2j1eSbr4rNbH51BfWCqb",
      "include_colab_link": true
    },
    "kernelspec": {
      "name": "python3",
      "display_name": "Python 3"
    },
    "language_info": {
      "name": "python"
    }
  },
  "cells": [
    {
      "cell_type": "markdown",
      "metadata": {
        "id": "view-in-github",
        "colab_type": "text"
      },
      "source": [
        "<a href=\"https://colab.research.google.com/github/Altaieb-Mohammed/lab_2corse/blob/master/lab10.ipynb\" target=\"_parent\"><img src=\"https://colab.research.google.com/assets/colab-badge.svg\" alt=\"Open In Colab\"/></a>"
      ]
    },
    {
      "cell_type": "code",
      "source": [
        "import pandas as pd\n",
        "import re\n",
        "from sklearn.model_selection import train_test_split\n",
        "from sklearn.feature_extraction.text import TfidfVectorizer\n",
        "from sklearn.preprocessing import StandardScaler\n",
        "from sklearn.svm import LinearSVC\n",
        "from sklearn.metrics import classification_report, accuracy_score\n",
        "from scipy.sparse import hstack\n",
        "\n",
        "# 1. Загрузка датасета\n",
        "url = \"https://raw.githubusercontent.com/Altaieb-Mohammed/lab_2corse/master/clean_synthetic_dataset.csv\"\n",
        "df = pd.read_csv(url)\n",
        "\n",
        "# 2. Очистка текста (оставляем буквы, цифры и пробелы)\n",
        "def preprocess_text(text):\n",
        "    text = text.lower()\n",
        "    text = re.sub(r'[^a-z0-9\\s]', '', text)\n",
        "    return text\n",
        "\n",
        "df['text_clean'] = df['text'].apply(preprocess_text)\n",
        "\n",
        "# 3. Входные данные и метки\n",
        "X_text = df['text_clean']\n",
        "X_num = df[['estate_worth', 'debts', 'funeral_expenses', 'bequests']]\n",
        "y = df['label']\n",
        "\n",
        "# 4. Делим на обучающую и тестовую выборки\n",
        "X_text_train, X_text_test, X_num_train, X_num_test, y_train, y_test = train_test_split(\n",
        "    X_text, X_num, y, test_size=0.2, random_state=42, stratify=y)\n",
        "\n",
        "# 5. Векторизация текста TF-IDF\n",
        "vectorizer = TfidfVectorizer(stop_words='english', ngram_range=(1,2), max_df=0.85, min_df=2)\n",
        "X_text_train_tfidf = vectorizer.fit_transform(X_text_train)\n",
        "X_text_test_tfidf = vectorizer.transform(X_text_test)\n",
        "\n",
        "# 6. Масштабирование числовых признаков\n",
        "scaler = StandardScaler()\n",
        "X_num_train_scaled = scaler.fit_transform(X_num_train)\n",
        "X_num_test_scaled = scaler.transform(X_num_test)\n",
        "\n",
        "# 7. Объединяем текстовые и числовые признаки\n",
        "X_train_combined = hstack([X_text_train_tfidf, X_num_train_scaled])\n",
        "X_test_combined = hstack([X_text_test_tfidf, X_num_test_scaled])\n",
        "\n",
        "# 8. Обучение модели SVM с балансировкой классов\n",
        "model = LinearSVC(class_weight='balanced', random_state=42, max_iter=5000)\n",
        "model.fit(X_train_combined, y_train)\n",
        "\n",
        "# 9. Предсказания и оценка\n",
        "y_pred = model.predict(X_test_combined)\n",
        "\n",
        "print(f\"Accuracy: {accuracy_score(y_test, y_pred):.4f}\")\n",
        "print(\"Classification Report:\\n\", classification_report(y_test, y_pred, target_names=['Low Bequest', 'High Bequest']))\n"
      ],
      "metadata": {
        "id": "cUb2UmaxzOHb",
        "outputId": "7e80b70d-945a-49c8-d160-e2a92ceafc00",
        "colab": {
          "base_uri": "https://localhost:8080/"
        }
      },
      "execution_count": 15,
      "outputs": [
        {
          "output_type": "stream",
          "name": "stdout",
          "text": [
            "Accuracy: 0.9950\n",
            "Classification Report:\n",
            "               precision    recall  f1-score   support\n",
            "\n",
            " Low Bequest       0.99      1.00      1.00       100\n",
            "High Bequest       1.00      0.99      0.99       100\n",
            "\n",
            "    accuracy                           0.99       200\n",
            "   macro avg       1.00      0.99      0.99       200\n",
            "weighted avg       1.00      0.99      0.99       200\n",
            "\n"
          ]
        }
      ]
    }
  ]
}