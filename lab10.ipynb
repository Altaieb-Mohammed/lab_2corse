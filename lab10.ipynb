{
  "nbformat": 4,
  "nbformat_minor": 0,
  "metadata": {
    "colab": {
      "provenance": [],
      "authorship_tag": "ABX9TyOnComSKnQwFwsE9bHnNOlY",
      "include_colab_link": true
    },
    "kernelspec": {
      "name": "python3",
      "display_name": "Python 3"
    },
    "language_info": {
      "name": "python"
    }
  },
  "cells": [
    {
      "cell_type": "markdown",
      "metadata": {
        "id": "view-in-github",
        "colab_type": "text"
      },
      "source": [
        "<a href=\"https://colab.research.google.com/github/Altaieb-Mohammed/lab_2corse/blob/master/lab10.ipynb\" target=\"_parent\"><img src=\"https://colab.research.google.com/assets/colab-badge.svg\" alt=\"Open In Colab\"/></a>"
      ]
    },
    {
      "cell_type": "code",
      "source": [
        "import pandas as pd\n",
        "import numpy as np\n",
        "\n",
        "# Количество примеров\n",
        "n = 1000\n",
        "np.random.seed(42)\n",
        "\n",
        "# Генерация числовых признаков\n",
        "estate_worth = np.random.uniform(100000, 1000000, n).round(2)\n",
        "debts = np.random.uniform(0, 200000, n).round(2)\n",
        "funeral_expenses = np.random.uniform(5000, 10000, n).round(2)\n",
        "bequests = np.random.uniform(1000, 200000, n).round(2)\n",
        "\n",
        "# Создание упрощённого текстового описания\n",
        "texts = [\n",
        "    f\"Estate: ${ew:.2f}, Debts: ${d:.2f}, Funeral: ${fe:.2f}, Bequest: ${b:.2f}.\"\n",
        "    for ew, d, fe, b in zip(estate_worth, debts, funeral_expenses, bequests)\n",
        "]\n",
        "\n",
        "# Формирование DataFrame\n",
        "df_synthetic = pd.DataFrame({\n",
        "    'text': texts,\n",
        "    'estate_worth': estate_worth,\n",
        "    'debts': debts,\n",
        "    'funeral_expenses': funeral_expenses,\n",
        "    'bequests': bequests\n",
        "})\n",
        "\n",
        "# Создание бинарной метки по медиане bequests\n",
        "median_bequests = df_synthetic['bequests'].median()\n",
        "df_synthetic['label'] = (df_synthetic['bequests'] >= median_bequests).astype(int)\n",
        "\n",
        "# Сохраняем датасет в CSV-файл\n",
        "output_path = 'synthetic_inheritance_dataset.csv'\n",
        "df_synthetic.to_csv(output_path, index=False)\n",
        "\n",
        "print(f\"Синтетический датасет сохранён в файл: {output_path}\")\n",
        "print(df_synthetic.head())\n"
      ],
      "metadata": {
        "id": "bpLTMieYg4zN",
        "outputId": "85a749ae-d2d4-4ed2-8d70-fd6f4b448fa6",
        "colab": {
          "base_uri": "https://localhost:8080/"
        }
      },
      "execution_count": 19,
      "outputs": [
        {
          "output_type": "stream",
          "name": "stdout",
          "text": [
            "Синтетический датасет сохранён в файл: synthetic_inheritance_dataset.csv\n",
            "                                                text  estate_worth      debts  \\\n",
            "0  Estate: $437086.11, Debts: $37026.59, Funeral:...     437086.11   37026.59   \n",
            "1  Estate: $955642.88, Debts: $108380.19, Funeral...     955642.88  108380.19   \n",
            "2  Estate: $758794.55, Debts: $174589.17, Funeral...     758794.55  174589.17   \n",
            "3  Estate: $638792.64, Debts: $146444.98, Funeral...     638792.64  146444.98   \n",
            "4  Estate: $240416.78, Debts: $161312.23, Funeral...     240416.78  161312.23   \n",
            "\n",
            "   funeral_expenses   bequests  label  \n",
            "0           6308.53  134867.90      1  \n",
            "1           6234.89  159539.60      1  \n",
            "2           9531.27   50843.11      0  \n",
            "3           6247.73  125349.95      1  \n",
            "4           6359.75  114777.45      1  \n"
          ]
        }
      ]
    },
    {
      "cell_type": "code",
      "source": [
        "import pandas as pd\n",
        "\n",
        "# Предположим, df - ваш DataFrame с очищенными данными\n",
        "# Например, df = df_synthetic из предыдущих шагов\n",
        "\n",
        "# Сохраняем датасет в CSV-файл\n",
        "csv_filename = 'clean_synthetic_dataset.csv'\n",
        "df.to_csv(csv_filename, index=False)\n",
        "print(f\"Датасет сохранён в файл {csv_filename}\")\n",
        "\n",
        "# Для скачивания файла в Jupyter Notebook (Google Colab)\n",
        "try:\n",
        "    from google.colab import files\n",
        "    files.download(csv_filename)\n",
        "except ImportError:\n",
        "    print(\"Автоматическая загрузка доступна только в Google Colab. Файл сохранён локально.\")\n"
      ],
      "metadata": {
        "id": "aXHJwy4QqqXB",
        "outputId": "b4afc6d6-f537-47d8-c477-f1a613031ee8",
        "colab": {
          "base_uri": "https://localhost:8080/",
          "height": 35
        }
      },
      "execution_count": 20,
      "outputs": [
        {
          "output_type": "stream",
          "name": "stdout",
          "text": [
            "Датасет сохранён в файл clean_synthetic_dataset.csv\n"
          ]
        },
        {
          "output_type": "display_data",
          "data": {
            "text/plain": [
              "<IPython.core.display.Javascript object>"
            ],
            "application/javascript": [
              "\n",
              "    async function download(id, filename, size) {\n",
              "      if (!google.colab.kernel.accessAllowed) {\n",
              "        return;\n",
              "      }\n",
              "      const div = document.createElement('div');\n",
              "      const label = document.createElement('label');\n",
              "      label.textContent = `Downloading \"${filename}\": `;\n",
              "      div.appendChild(label);\n",
              "      const progress = document.createElement('progress');\n",
              "      progress.max = size;\n",
              "      div.appendChild(progress);\n",
              "      document.body.appendChild(div);\n",
              "\n",
              "      const buffers = [];\n",
              "      let downloaded = 0;\n",
              "\n",
              "      const channel = await google.colab.kernel.comms.open(id);\n",
              "      // Send a message to notify the kernel that we're ready.\n",
              "      channel.send({})\n",
              "\n",
              "      for await (const message of channel.messages) {\n",
              "        // Send a message to notify the kernel that we're ready.\n",
              "        channel.send({})\n",
              "        if (message.buffers) {\n",
              "          for (const buffer of message.buffers) {\n",
              "            buffers.push(buffer);\n",
              "            downloaded += buffer.byteLength;\n",
              "            progress.value = downloaded;\n",
              "          }\n",
              "        }\n",
              "      }\n",
              "      const blob = new Blob(buffers, {type: 'application/binary'});\n",
              "      const a = document.createElement('a');\n",
              "      a.href = window.URL.createObjectURL(blob);\n",
              "      a.download = filename;\n",
              "      div.appendChild(a);\n",
              "      a.click();\n",
              "      div.remove();\n",
              "    }\n",
              "  "
            ]
          },
          "metadata": {}
        },
        {
          "output_type": "display_data",
          "data": {
            "text/plain": [
              "<IPython.core.display.Javascript object>"
            ],
            "application/javascript": [
              "download(\"download_0bac0e86-9f98-45ab-89c8-f4cb709dc591\", \"clean_synthetic_dataset.csv\", 118464)"
            ]
          },
          "metadata": {}
        }
      ]
    }
  ]
}