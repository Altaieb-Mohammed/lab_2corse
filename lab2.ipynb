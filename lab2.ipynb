{
  "nbformat": 4,
  "nbformat_minor": 0,
  "metadata": {
    "colab": {
      "provenance": [],
      "authorship_tag": "ABX9TyNqn8YUNFKwmg4jLX6uyWoX",
      "include_colab_link": true
    },
    "kernelspec": {
      "name": "python3",
      "display_name": "Python 3"
    },
    "language_info": {
      "name": "python"
    }
  },
  "cells": [
    {
      "cell_type": "markdown",
      "metadata": {
        "id": "view-in-github",
        "colab_type": "text"
      },
      "source": [
        "<a href=\"https://colab.research.google.com/github/Altaieb-Mohammed/lab_2corse/blob/master/lab2.ipynb\" target=\"_parent\"><img src=\"https://colab.research.google.com/assets/colab-badge.svg\" alt=\"Open In Colab\"/></a>"
      ]
    },
    {
      "cell_type": "code",
      "source": [
        "# -------------------------------------------------------------- Лабораторная работа №2: Анализ распределений и корреляций\n",
        "\n",
        "import pandas as pd\n",
        "import numpy as np\n",
        "import matplotlib.pyplot as plt\n",
        "import seaborn as sns\n",
        "import warnings\n",
        "warnings.filterwarnings('ignore')\n",
        "\n",
        "# --- Load Data ---\n",
        "\n",
        "url = \"https://raw.githubusercontent.com/Altaieb-Mohammed/lab_2corse/inheritance_combined.csv\"\n",
        "\n",
        "\n",
        "# --- Feature Lists (adjust if necessary) ---\n",
        "numerical_features = [\n",
        "    'debts', 'funeral_expenses', 'bequests', 'wife', 'husband', 'son', 'daughter',\n",
        "    'father', 'mother', 'brother', 'sister', 'grandchild'\n",
        "]\n",
        "categorical_features = ['text']\n",
        "\n",
        "# --- Check for available features ---\n",
        "existing_numerical = [col for col in numerical_features if col in df.columns]\n",
        "existing_categorical = [col for col in categorical_features if col in df.columns]\n",
        "\n",
        "print(f\"Используемые числовые признаки: {existing_numerical}\")\n",
        "print(f\"Используемые категориальные признаки: {existing_categorical}\")\n",
        "\n",
        "# --- Clean Data ---\n",
        "df_num = df[existing_numerical].dropna()\n",
        "print(f\"\\nРазмер числового датафрейма после удаления пропусков: {df_num.shape}\")\n",
        "\n",
        "# --- Visualize Distributions ---\n",
        "for feature in existing_numerical:\n",
        "    plt.figure(figsize=(12, 5))\n",
        "\n",
        "    plt.subplot(1, 2, 1)\n",
        "    sns.histplot(df_num[feature], bins=30, kde=False, color='skyblue')\n",
        "    plt.title(f'Гистограмма: {feature}')\n",
        "    plt.xlabel(feature)\n",
        "    plt.ylabel('Частота')\n",
        "\n",
        "    plt.subplot(1, 2, 2)\n",
        "    sns.kdeplot(df_num[feature], fill=True, color='orange')\n",
        "    plt.title(f'Плотность: {feature}')\n",
        "    plt.xlabel(feature)\n",
        "    plt.ylabel('Плотность')\n",
        "\n",
        "    plt.tight_layout()\n",
        "    plt.show()\n",
        "\n",
        "# --- Boxplots (Outlier Detection) ---\n",
        "for feature in existing_numerical:\n",
        "    plt.figure(figsize=(6, 4))\n",
        "    sns.boxplot(x=df_num[feature], color='lightgreen')\n",
        "    plt.title(f'Ящик с усами: {feature}')\n",
        "    plt.xlabel(feature)\n",
        "    plt.show()\n",
        "\n",
        "    # Outlier summary\n",
        "    q1 = df_num[feature].quantile(0.25)\n",
        "    q3 = df_num[feature].quantile(0.75)\n",
        "    iqr = q3 - q1\n",
        "    outliers = df_num[(df_num[feature] < q1 - 1.5 * iqr) | (df_num[feature] > q3 + 1.5 * iqr)]\n",
        "    print(f\"Признак '{feature}': {len(outliers)} выбросов из {len(df_num)} наблюдений\")\n",
        "\n",
        "# --- Text Feature Analysis ---\n",
        "if 'text' in df.columns:\n",
        "    print(\"\\nПримеры текстовых описаний:\")\n",
        "    print(df['text'].head(5))\n",
        "\n",
        "    df['text_length'] = df['text'].astype(str).apply(len)\n",
        "    plt.figure(figsize=(8,5))\n",
        "    sns.histplot(df['text_length'], bins=30, color='purple')\n",
        "    plt.title('Распределение длины текстовых описаний')\n",
        "    plt.xlabel('Длина текста')\n",
        "    plt.ylabel('Частота')\n",
        "    plt.show()\n",
        "\n",
        "    print(\"\\nСтатистика по длине текста:\")\n",
        "    print(df['text_length'].describe())\n",
        "\n",
        "# --- Correlation Matrix ---\n",
        "plt.figure(figsize=(12, 8))\n",
        "sns.heatmap(df_num.corr(), annot=True, cmap='coolwarm', fmt=\".2f\")\n",
        "plt.title('Матрица корреляций числовых признаков')\n",
        "plt.show()\n",
        "\n",
        "# --- Summary Statistics ---\n",
        "print(\"\\nКраткие статистики по числовым признакам:\\n\", df_num.describe())\n",
        "\n",
        "# --- Pairplot for deeper analysis (optional, can be slow for large datasets) ---\n",
        "if len(existing_numerical) <= 6:  # Limit to avoid heavy plots\n",
        "    sns.pairplot(df_num)\n",
        "    plt.suptitle(\"Парные графики для числовых признаков\", y=1.02)\n",
        "    plt.show()\n",
        "\n",
        "# --- Example Insights ---\n",
        "print(\"\\nПример анализа:\")\n",
        "print(\"- Высокая корреляция между количеством сыновей и дочерей может указывать на большие семьи.\")\n",
        "print(\"- Финансовые признаки (долги, расходы на похороны, завещания) могут быть скоррелированы между собой.\")\n",
        "print(\"- Выбросы в признаках debts, bequests и funeral_expenses могут указывать на редкие, но крупные случаи.\")\n"
      ],
      "metadata": {
        "id": "u6wSka59NDpN",
        "outputId": "29842d38-68ca-4a7e-9d5e-379f8483b9f7",
        "colab": {
          "base_uri": "https://localhost:8080/",
          "height": 332
        }
      },
      "execution_count": 3,
      "outputs": [
        {
          "output_type": "error",
          "ename": "AttributeError",
          "evalue": "'NoneType' object has no attribute 'columns'",
          "traceback": [
            "\u001b[0;31m---------------------------------------------------------------------------\u001b[0m",
            "\u001b[0;31mAttributeError\u001b[0m                            Traceback (most recent call last)",
            "\u001b[0;32m<ipython-input-3-f20c2b11a0f1>\u001b[0m in \u001b[0;36m<cell line: 0>\u001b[0;34m()\u001b[0m\n\u001b[1;32m     24\u001b[0m \u001b[0;34m\u001b[0m\u001b[0m\n\u001b[1;32m     25\u001b[0m \u001b[0;31m# --- Check for available features ---\u001b[0m\u001b[0;34m\u001b[0m\u001b[0;34m\u001b[0m\u001b[0m\n\u001b[0;32m---> 26\u001b[0;31m \u001b[0mexisting_numerical\u001b[0m \u001b[0;34m=\u001b[0m \u001b[0;34m[\u001b[0m\u001b[0mcol\u001b[0m \u001b[0;32mfor\u001b[0m \u001b[0mcol\u001b[0m \u001b[0;32min\u001b[0m \u001b[0mnumerical_features\u001b[0m \u001b[0;32mif\u001b[0m \u001b[0mcol\u001b[0m \u001b[0;32min\u001b[0m \u001b[0mdf\u001b[0m\u001b[0;34m.\u001b[0m\u001b[0mcolumns\u001b[0m\u001b[0;34m]\u001b[0m\u001b[0;34m\u001b[0m\u001b[0;34m\u001b[0m\u001b[0m\n\u001b[0m\u001b[1;32m     27\u001b[0m \u001b[0mexisting_categorical\u001b[0m \u001b[0;34m=\u001b[0m \u001b[0;34m[\u001b[0m\u001b[0mcol\u001b[0m \u001b[0;32mfor\u001b[0m \u001b[0mcol\u001b[0m \u001b[0;32min\u001b[0m \u001b[0mcategorical_features\u001b[0m \u001b[0;32mif\u001b[0m \u001b[0mcol\u001b[0m \u001b[0;32min\u001b[0m \u001b[0mdf\u001b[0m\u001b[0;34m.\u001b[0m\u001b[0mcolumns\u001b[0m\u001b[0;34m]\u001b[0m\u001b[0;34m\u001b[0m\u001b[0;34m\u001b[0m\u001b[0m\n\u001b[1;32m     28\u001b[0m \u001b[0;34m\u001b[0m\u001b[0m\n",
            "\u001b[0;32m<ipython-input-3-f20c2b11a0f1>\u001b[0m in \u001b[0;36m<listcomp>\u001b[0;34m(.0)\u001b[0m\n\u001b[1;32m     24\u001b[0m \u001b[0;34m\u001b[0m\u001b[0m\n\u001b[1;32m     25\u001b[0m \u001b[0;31m# --- Check for available features ---\u001b[0m\u001b[0;34m\u001b[0m\u001b[0;34m\u001b[0m\u001b[0m\n\u001b[0;32m---> 26\u001b[0;31m \u001b[0mexisting_numerical\u001b[0m \u001b[0;34m=\u001b[0m \u001b[0;34m[\u001b[0m\u001b[0mcol\u001b[0m \u001b[0;32mfor\u001b[0m \u001b[0mcol\u001b[0m \u001b[0;32min\u001b[0m \u001b[0mnumerical_features\u001b[0m \u001b[0;32mif\u001b[0m \u001b[0mcol\u001b[0m \u001b[0;32min\u001b[0m \u001b[0mdf\u001b[0m\u001b[0;34m.\u001b[0m\u001b[0mcolumns\u001b[0m\u001b[0;34m]\u001b[0m\u001b[0;34m\u001b[0m\u001b[0;34m\u001b[0m\u001b[0m\n\u001b[0m\u001b[1;32m     27\u001b[0m \u001b[0mexisting_categorical\u001b[0m \u001b[0;34m=\u001b[0m \u001b[0;34m[\u001b[0m\u001b[0mcol\u001b[0m \u001b[0;32mfor\u001b[0m \u001b[0mcol\u001b[0m \u001b[0;32min\u001b[0m \u001b[0mcategorical_features\u001b[0m \u001b[0;32mif\u001b[0m \u001b[0mcol\u001b[0m \u001b[0;32min\u001b[0m \u001b[0mdf\u001b[0m\u001b[0;34m.\u001b[0m\u001b[0mcolumns\u001b[0m\u001b[0;34m]\u001b[0m\u001b[0;34m\u001b[0m\u001b[0;34m\u001b[0m\u001b[0m\n\u001b[1;32m     28\u001b[0m \u001b[0;34m\u001b[0m\u001b[0m\n",
            "\u001b[0;31mAttributeError\u001b[0m: 'NoneType' object has no attribute 'columns'"
          ]
        }
      ]
    }
  ]
}