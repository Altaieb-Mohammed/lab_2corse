{
  "nbformat": 4,
  "nbformat_minor": 0,
  "metadata": {
    "colab": {
      "provenance": [],
      "toc_visible": true,
      "authorship_tag": "ABX9TyNL4vT85f9Y3ZMn44Jw0NJa",
      "include_colab_link": true
    },
    "kernelspec": {
      "name": "python3",
      "display_name": "Python 3"
    },
    "language_info": {
      "name": "python"
    }
  },
  "cells": [
    {
      "cell_type": "markdown",
      "metadata": {
        "id": "view-in-github",
        "colab_type": "text"
      },
      "source": [
        "<a href=\"https://colab.research.google.com/github/Altaieb-Mohammed/lab_2corse/blob/master/c_lab1.ipynb\" target=\"_parent\"><img src=\"https://colab.research.google.com/assets/colab-badge.svg\" alt=\"Open In Colab\"/></a>"
      ]
    },
    {
      "cell_type": "code",
      "source": [
        "\n",
        "import pandas as pd\n",
        "from sklearn.preprocessing import MinMaxScaler, StandardScaler\n",
        "url = \"https://raw.githubusercontent.com/Altaieb-Mohammed/lab_2corse/master/prices_oct_nov_2022.csv\"\n",
        "data = pd.read_csv(url)\n",
        "# Шаг 1: Загрузка набора данных\n",
        "data['Date'] = pd.to_datetime(data['Date'], errors='coerce')\n",
        "\n",
        "# Функция для преобразования процентов в числа\n",
        "def percent_to_float(x):\n",
        "    try:\n",
        "        return float(str(x).replace('%', '').strip())\n",
        "    except:\n",
        "        return None\n",
        "\n",
        "# Преобразуем столбец 'Change'\n",
        "data['Change'] = data['Change'].apply(percent_to_float)\n",
        "\n",
        "# Шаг 3 и 4: Очистка данных\n",
        "# Удаляем строки с пропусками в 'Change' и в других столбцах\n",
        "data_clean = data.dropna()\n",
        "\n",
        "# Удаляем дубликаты\n",
        "data_clean = data_clean.drop_duplicates()\n",
        "\n",
        "print(\"Информация о данных после очистки:\")\n",
        "print(data_clean.info())\n",
        "\n",
        "print(\"\\nКоличество пропусков после очистки:\")\n",
        "print(data_clean.isnull().sum())\n",
        "\n",
        "print(\"\\nКоличество дубликатов после очистки:\")\n",
        "print(data_clean.duplicated().sum())\n",
        "\n",
        "# Сохраняем очищенный набор данных\n",
        "data_clean.to_csv('your_dataset_cleaned.csv', index=False)\n",
        "print(\"\\nОчищенный набор данных сохранён в 'your_dataset_cleaned.csv'\")\n",
        "\n",
        "# Шаг 5: Отбор признаков для масштабирования\n",
        "features = ['Price', 'Change']\n",
        "data_features = data_clean[features]\n",
        "\n",
        "# Шаг 6.1: Нормализация (Min-Max)\n",
        "scaler_minmax = MinMaxScaler()\n",
        "data_minmax = data_features.copy()\n",
        "data_minmax[features] = scaler_minmax.fit_transform(data_minmax[features])\n",
        "\n",
        "print(\"\\nДанные после нормализации (Min-Max):\")\n",
        "print(data_minmax.head())\n",
        "\n",
        "# Шаг 6.2: Стандартизация (Z-score)\n",
        "scaler_standard = StandardScaler()\n",
        "data_standard = data_features.copy()\n",
        "data_standard[features] = scaler_standard.fit_transform(data_standard[features])\n",
        "\n",
        "print(\"\\nДанные после стандартизации (Z-score):\")\n",
        "print(data_standard.head())\n",
        "\n",
        "# Шаг 7: Выводы\n",
        "print(\"\"\"\n",
        "Выводы:\n",
        "- Столбец 'Change' успешно преобразован из процентов в числовой формат.\n",
        "- Данные очищены от пропусков и дубликатов.\n",
        "- Проведено масштабирование признаков двумя методами: нормализация и стандартизация.\n",
        "- Очищенный набор данных сохранён для дальнейшего анализа.\n",
        "\"\"\")\n"
      ],
      "metadata": {
        "id": "y6zZkL2aw9To",
        "outputId": "d34b4426-4be8-4fc3-a0e7-a5c7696a8702",
        "colab": {
          "base_uri": "https://localhost:8080/"
        }
      },
      "execution_count": 8,
      "outputs": [
        {
          "output_type": "stream",
          "name": "stdout",
          "text": [
            "Информация о данных после очистки:\n",
            "<class 'pandas.core.frame.DataFrame'>\n",
            "Index: 3084 entries, 0 to 3085\n",
            "Data columns (total 8 columns):\n",
            " #   Column      Non-Null Count  Dtype         \n",
            "---  ------      --------------  -----         \n",
            " 0   Unnamed: 0  3084 non-null   int64         \n",
            " 1   Date        3084 non-null   datetime64[ns]\n",
            " 2   Pricing     3084 non-null   object        \n",
            " 3   Market      3084 non-null   object        \n",
            " 4   Product     3084 non-null   object        \n",
            " 5   Price       3084 non-null   float64       \n",
            " 6   Change      3084 non-null   float64       \n",
            " 7   Unit        3084 non-null   object        \n",
            "dtypes: datetime64[ns](1), float64(2), int64(1), object(4)\n",
            "memory usage: 216.8+ KB\n",
            "None\n",
            "\n",
            "Количество пропусков после очистки:\n",
            "Unnamed: 0    0\n",
            "Date          0\n",
            "Pricing       0\n",
            "Market        0\n",
            "Product       0\n",
            "Price         0\n",
            "Change        0\n",
            "Unit          0\n",
            "dtype: int64\n",
            "\n",
            "Количество дубликатов после очистки:\n",
            "0\n",
            "\n",
            "Очищенный набор данных сохранён в 'your_dataset_cleaned.csv'\n",
            "\n",
            "Данные после нормализации (Min-Max):\n",
            "      Price    Change\n",
            "0  0.000646  0.263540\n",
            "1  0.099981  0.269318\n",
            "2  0.279985  0.263540\n",
            "3  0.216650  0.263540\n",
            "4  0.017313  0.263540\n",
            "\n",
            "Данные после стандартизации (Z-score):\n",
            "      Price    Change\n",
            "0 -0.392939  0.016782\n",
            "1  0.891292  0.174917\n",
            "2  3.218422  0.016782\n",
            "3  2.399617  0.016782\n",
            "4 -0.177464  0.016782\n",
            "\n",
            "Выводы:\n",
            "- Столбец 'Change' успешно преобразован из процентов в числовой формат.\n",
            "- Данные очищены от пропусков и дубликатов.\n",
            "- Проведено масштабирование признаков двумя методами: нормализация и стандартизация.\n",
            "- Очищенный набор данных сохранён для дальнейшего анализа.\n",
            "\n"
          ]
        }
      ]
    },
    {
      "cell_type": "code",
      "source": [
        "from google.colab import files\n",
        "\n",
        "files.download('your_dataset_cleaned.csv')\n"
      ],
      "metadata": {
        "id": "djujSbC-_ZNg",
        "outputId": "dd2aad32-01d9-4561-943b-955e3773e357",
        "colab": {
          "base_uri": "https://localhost:8080/",
          "height": 17
        }
      },
      "execution_count": 9,
      "outputs": [
        {
          "output_type": "display_data",
          "data": {
            "text/plain": [
              "<IPython.core.display.Javascript object>"
            ],
            "application/javascript": [
              "\n",
              "    async function download(id, filename, size) {\n",
              "      if (!google.colab.kernel.accessAllowed) {\n",
              "        return;\n",
              "      }\n",
              "      const div = document.createElement('div');\n",
              "      const label = document.createElement('label');\n",
              "      label.textContent = `Downloading \"${filename}\": `;\n",
              "      div.appendChild(label);\n",
              "      const progress = document.createElement('progress');\n",
              "      progress.max = size;\n",
              "      div.appendChild(progress);\n",
              "      document.body.appendChild(div);\n",
              "\n",
              "      const buffers = [];\n",
              "      let downloaded = 0;\n",
              "\n",
              "      const channel = await google.colab.kernel.comms.open(id);\n",
              "      // Send a message to notify the kernel that we're ready.\n",
              "      channel.send({})\n",
              "\n",
              "      for await (const message of channel.messages) {\n",
              "        // Send a message to notify the kernel that we're ready.\n",
              "        channel.send({})\n",
              "        if (message.buffers) {\n",
              "          for (const buffer of message.buffers) {\n",
              "            buffers.push(buffer);\n",
              "            downloaded += buffer.byteLength;\n",
              "            progress.value = downloaded;\n",
              "          }\n",
              "        }\n",
              "      }\n",
              "      const blob = new Blob(buffers, {type: 'application/binary'});\n",
              "      const a = document.createElement('a');\n",
              "      a.href = window.URL.createObjectURL(blob);\n",
              "      a.download = filename;\n",
              "      div.appendChild(a);\n",
              "      a.click();\n",
              "      div.remove();\n",
              "    }\n",
              "  "
            ]
          },
          "metadata": {}
        },
        {
          "output_type": "display_data",
          "data": {
            "text/plain": [
              "<IPython.core.display.Javascript object>"
            ],
            "application/javascript": [
              "download(\"download_24b0605a-a30f-475f-be5f-169d1184cbf0\", \"your_dataset_cleaned.csv\", 215235)"
            ]
          },
          "metadata": {}
        }
      ]
    }
  ]
}