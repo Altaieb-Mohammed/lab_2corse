{
  "nbformat": 4,
  "nbformat_minor": 0,
  "metadata": {
    "colab": {
      "provenance": [],
      "toc_visible": true,
      "authorship_tag": "ABX9TyMVaigCC0Z/jJa/S7zR3yyu",
      "include_colab_link": true
    },
    "kernelspec": {
      "name": "python3",
      "display_name": "Python 3"
    },
    "language_info": {
      "name": "python"
    }
  },
  "cells": [
    {
      "cell_type": "markdown",
      "metadata": {
        "id": "view-in-github",
        "colab_type": "text"
      },
      "source": [
        "<a href=\"https://colab.research.google.com/github/Altaieb-Mohammed/lab_2corse/blob/master/c_lab1.ipynb\" target=\"_parent\"><img src=\"https://colab.research.google.com/assets/colab-badge.svg\" alt=\"Open In Colab\"/></a>"
      ]
    },
    {
      "cell_type": "code",
      "source": [
        "\n",
        "import pandas as pd\n",
        "from sklearn.preprocessing import MinMaxScaler, StandardScaler\n",
        "url = \"https://raw.githubusercontent.com/Altaieb-Mohammed/lab_2corse/master/final_inheritanc.csv\"\n",
        "data = pd.read_csv(url)\n",
        "# Шаг 1: Загрузка набора данных\n",
        "\n",
        "\n",
        "\n",
        "# Удаляем строки с пропусками в 'Change' и в других столбцах\n",
        "data_clean = data.dropna()\n",
        "\n",
        "# Удаляем дубликаты\n",
        "data_clean = data_clean.drop_duplicates()\n",
        "\n",
        "print(\"Информация о данных после очистки:\")\n",
        "print(data_clean.info())\n",
        "\n",
        "print(\"\\nКоличество пропусков после очистки:\")\n",
        "print(data_clean.isnull().sum())\n",
        "\n",
        "print(\"\\nКоличество дубликатов после очистки:\")\n",
        "print(data_clean.duplicated().sum())\n",
        "\n",
        "# Сохраняем очищенный набор данных\n",
        "data_clean.to_csv('your_dataset_cleaned.csv', index=False)\n",
        "print(\"\\nОчищенный набор данных сохранён в 'last_dataset_cleaned.csv'\")\n",
        "\n",
        "# Шаг 5: Отбор признаков для масштабирования\n",
        "features = ['estate','share_wife','share_father','share_husband','share_mother','share_sons','share_daughters']\n",
        "data_features = data_clean[features]\n",
        "\n",
        "# Шаг 6.1: Нормализация (Min-Max)\n",
        "scaler_minmax = MinMaxScaler()\n",
        "data_minmax = data_features.copy()\n",
        "data_minmax[features] = scaler_minmax.fit_transform(data_minmax[features])\n",
        "\n",
        "print(\"\\nДанные после нормализации (Min-Max):\")\n",
        "print(data_minmax.head())\n",
        "print(data.head())\n",
        "\n",
        "# Шаг 6.2: Стандартизация (Z-score)\n",
        "scaler_standard = StandardScaler()\n",
        "data_standard = data_features.copy()\n",
        "data_standard[features] = scaler_standard.fit_transform(data_standard[features])\n",
        "data_clean = data.dropna()\n",
        "print(\"\\nДанные после стандартизации (Z-score):\")\n",
        "print(data_standard.head())\n",
        "\n",
        "\n"
      ],
      "metadata": {
        "id": "y6zZkL2aw9To",
        "outputId": "a6074c1e-906f-441f-87ae-d53609e915fe",
        "colab": {
          "base_uri": "https://localhost:8080/",
          "height": 1000
        }
      },
      "execution_count": 20,
      "outputs": [
        {
          "output_type": "stream",
          "name": "stdout",
          "text": [
            "Информация о данных после очистки:\n",
            "<class 'pandas.core.frame.DataFrame'>\n",
            "RangeIndex: 16665 entries, 0 to 16664\n",
            "Data columns (total 19 columns):\n",
            " #   Column           Non-Null Count  Dtype  \n",
            "---  ------           --------------  -----  \n",
            " 0   estate           16665 non-null  int64  \n",
            " 1   debts            16665 non-null  int64  \n",
            " 2   wills            16665 non-null  float64\n",
            " 3   husband          16665 non-null  int64  \n",
            " 4   wives            16665 non-null  int64  \n",
            " 5   father           16665 non-null  int64  \n",
            " 6   mother           16665 non-null  int64  \n",
            " 7   sons             16665 non-null  int64  \n",
            " 8   daughters        16665 non-null  int64  \n",
            " 9   brothers_m       16665 non-null  int64  \n",
            " 10  sisters_m        16665 non-null  int64  \n",
            " 11  grandfather      16665 non-null  int64  \n",
            " 12  grandmother      16665 non-null  int64  \n",
            " 13  share_husband    16665 non-null  float64\n",
            " 14  share_wife       16665 non-null  float64\n",
            " 15  share_father     16665 non-null  float64\n",
            " 16  share_mother     16665 non-null  float64\n",
            " 17  share_sons       16665 non-null  float64\n",
            " 18  share_daughters  16665 non-null  float64\n",
            "dtypes: float64(7), int64(12)\n",
            "memory usage: 2.4 MB\n",
            "None\n",
            "\n",
            "Количество пропусков после очистки:\n",
            "estate             0\n",
            "debts              0\n",
            "wills              0\n",
            "husband            0\n",
            "wives              0\n",
            "father             0\n",
            "mother             0\n",
            "sons               0\n",
            "daughters          0\n",
            "brothers_m         0\n",
            "sisters_m          0\n",
            "grandfather        0\n",
            "grandmother        0\n",
            "share_husband      0\n",
            "share_wife         0\n",
            "share_father       0\n",
            "share_mother       0\n",
            "share_sons         0\n",
            "share_daughters    0\n",
            "dtype: int64\n",
            "\n",
            "Количество дубликатов после очистки:\n",
            "0\n",
            "\n",
            "Очищенный набор данных сохранён в 'last_dataset_cleaned.csv'\n",
            "\n",
            "Данные после нормализации (Min-Max):\n",
            "     estate  share_wife  share_father  share_husband  share_mother  \\\n",
            "0  0.800273    0.000000      0.147380       0.471624      0.471624   \n",
            "1  0.878285    0.000000      0.159443       0.000000      0.510225   \n",
            "2  0.721935    0.000000      0.000000       0.497722      0.000000   \n",
            "3  0.344923    0.167891      0.061894       0.000000      0.198063   \n",
            "4  0.625642    0.000000      0.100296       0.320952      0.000000   \n",
            "\n",
            "   share_sons  share_daughters  \n",
            "0    0.223133         0.170638  \n",
            "1    0.386233         0.295367  \n",
            "2    0.635797         0.000000  \n",
            "3    0.000000         0.343974  \n",
            "4    0.318880         0.000000  \n",
            "   estate  debts     wills  husband  wives  father  mother  sons  daughters  \\\n",
            "0  170040  22540   2663.76        1      0       1       1     1          1   \n",
            "1  181741  10376  14674.26        0      0       1       1     1          1   \n",
            "2  158290   2848   2591.00        1      0       0       0     1          0   \n",
            "3  101742  21068  12245.39        0      1       1       1     0          1   \n",
            "4  143847  19321  25961.21        1      0       1       0     1          0   \n",
            "\n",
            "   brothers_m  sisters_m  grandfather  grandmother  share_husband  share_wife  \\\n",
            "0           1          1            0            1       36209.06        0.00   \n",
            "1           1          1            1            1           0.00        0.00   \n",
            "2           0          1            1            0       38212.75        0.00   \n",
            "3           1          0            1            0           0.00     7603.18   \n",
            "4           1          1            0            0       24641.20        0.00   \n",
            "\n",
            "   share_father  share_mother  share_sons  share_daughters  \n",
            "0      24139.37      24139.37    40232.29         20116.14  \n",
            "1      26115.12      26115.12    69640.33         34820.16  \n",
            "2          0.00          0.00   114638.25             0.00  \n",
            "3      10137.57      10137.57        0.00         40550.29  \n",
            "4      16427.47          0.00    57496.13             0.00  \n",
            "\n",
            "Данные после стандартизации (Z-score):\n",
            "     estate  share_wife  share_father  share_husband  share_mother  \\\n",
            "0  1.050749   -0.376287      1.601704       1.962654      1.976256   \n",
            "1  1.322990   -0.376287      1.798611      -0.902328      2.212818   \n",
            "2  0.777369   -0.376287     -0.804063       2.121193     -0.914021   \n",
            "3 -0.538302    1.411346      0.206263      -0.902328      0.299779   \n",
            "4  0.441331   -0.376287      0.833124       1.047366     -0.914021   \n",
            "\n",
            "   share_sons  share_daughters  \n",
            "0   -0.034558         0.090028  \n",
            "1    1.066524         0.898118  \n",
            "2    2.751315        -1.015497  \n",
            "3   -1.540917         1.213029  \n",
            "4    0.611826        -1.015497  \n"
          ]
        },
        {
          "output_type": "error",
          "ename": "FileNotFoundError",
          "evalue": "Cannot find file: last_dataset_cleaned.csv",
          "traceback": [
            "\u001b[0;31m---------------------------------------------------------------------------\u001b[0m",
            "\u001b[0;31mFileNotFoundError\u001b[0m                         Traceback (most recent call last)",
            "\u001b[0;32m<ipython-input-20-506d55ff14cc>\u001b[0m in \u001b[0;36m<cell line: 0>\u001b[0;34m()\u001b[0m\n\u001b[1;32m     48\u001b[0m \u001b[0;32mfrom\u001b[0m \u001b[0mgoogle\u001b[0m\u001b[0;34m.\u001b[0m\u001b[0mcolab\u001b[0m \u001b[0;32mimport\u001b[0m \u001b[0mfiles\u001b[0m\u001b[0;34m\u001b[0m\u001b[0;34m\u001b[0m\u001b[0m\n\u001b[1;32m     49\u001b[0m \u001b[0;34m\u001b[0m\u001b[0m\n\u001b[0;32m---> 50\u001b[0;31m \u001b[0mfiles\u001b[0m\u001b[0;34m.\u001b[0m\u001b[0mdownload\u001b[0m\u001b[0;34m(\u001b[0m\u001b[0;34m'last_dataset_cleaned.csv'\u001b[0m\u001b[0;34m)\u001b[0m\u001b[0;34m\u001b[0m\u001b[0;34m\u001b[0m\u001b[0m\n\u001b[0m\u001b[1;32m     51\u001b[0m \u001b[0;34m\u001b[0m\u001b[0m\n",
            "\u001b[0;32m/usr/local/lib/python3.11/dist-packages/google/colab/files.py\u001b[0m in \u001b[0;36mdownload\u001b[0;34m(filename)\u001b[0m\n\u001b[1;32m    231\u001b[0m   \u001b[0;32mif\u001b[0m \u001b[0;32mnot\u001b[0m \u001b[0m_os\u001b[0m\u001b[0;34m.\u001b[0m\u001b[0mpath\u001b[0m\u001b[0;34m.\u001b[0m\u001b[0mexists\u001b[0m\u001b[0;34m(\u001b[0m\u001b[0mfilename\u001b[0m\u001b[0;34m)\u001b[0m\u001b[0;34m:\u001b[0m\u001b[0;34m\u001b[0m\u001b[0;34m\u001b[0m\u001b[0m\n\u001b[1;32m    232\u001b[0m     \u001b[0mmsg\u001b[0m \u001b[0;34m=\u001b[0m \u001b[0;34m'Cannot find file: {}'\u001b[0m\u001b[0;34m.\u001b[0m\u001b[0mformat\u001b[0m\u001b[0;34m(\u001b[0m\u001b[0mfilename\u001b[0m\u001b[0;34m)\u001b[0m\u001b[0;34m\u001b[0m\u001b[0;34m\u001b[0m\u001b[0m\n\u001b[0;32m--> 233\u001b[0;31m     \u001b[0;32mraise\u001b[0m \u001b[0mFileNotFoundError\u001b[0m\u001b[0;34m(\u001b[0m\u001b[0mmsg\u001b[0m\u001b[0;34m)\u001b[0m  \u001b[0;31m# pylint: disable=undefined-variable\u001b[0m\u001b[0;34m\u001b[0m\u001b[0;34m\u001b[0m\u001b[0m\n\u001b[0m\u001b[1;32m    234\u001b[0m \u001b[0;34m\u001b[0m\u001b[0m\n\u001b[1;32m    235\u001b[0m   \u001b[0mcomm_manager\u001b[0m \u001b[0;34m=\u001b[0m \u001b[0m_IPython\u001b[0m\u001b[0;34m.\u001b[0m\u001b[0mget_ipython\u001b[0m\u001b[0;34m(\u001b[0m\u001b[0;34m)\u001b[0m\u001b[0;34m.\u001b[0m\u001b[0mkernel\u001b[0m\u001b[0;34m.\u001b[0m\u001b[0mcomm_manager\u001b[0m\u001b[0;34m\u001b[0m\u001b[0;34m\u001b[0m\u001b[0m\n",
            "\u001b[0;31mFileNotFoundError\u001b[0m: Cannot find file: last_dataset_cleaned.csv"
          ]
        }
      ]
    },
    {
      "cell_type": "code",
      "source": [
        "from google.colab import files\n",
        "\n",
        "files.download('last_dataset_cleaned.csv')\n"
      ],
      "metadata": {
        "id": "djujSbC-_ZNg",
        "outputId": "8dfc6b0b-1307-473e-ece0-5b890d585dde",
        "colab": {
          "base_uri": "https://localhost:8080/",
          "height": 297
        }
      },
      "execution_count": 19,
      "outputs": [
        {
          "output_type": "error",
          "ename": "FileNotFoundError",
          "evalue": "Cannot find file: last_dataset_cleaned.csv",
          "traceback": [
            "\u001b[0;31m---------------------------------------------------------------------------\u001b[0m",
            "\u001b[0;31mFileNotFoundError\u001b[0m                         Traceback (most recent call last)",
            "\u001b[0;32m<ipython-input-19-d0b622c97a3d>\u001b[0m in \u001b[0;36m<cell line: 0>\u001b[0;34m()\u001b[0m\n\u001b[1;32m      1\u001b[0m \u001b[0;32mfrom\u001b[0m \u001b[0mgoogle\u001b[0m\u001b[0;34m.\u001b[0m\u001b[0mcolab\u001b[0m \u001b[0;32mimport\u001b[0m \u001b[0mfiles\u001b[0m\u001b[0;34m\u001b[0m\u001b[0;34m\u001b[0m\u001b[0m\n\u001b[1;32m      2\u001b[0m \u001b[0;34m\u001b[0m\u001b[0m\n\u001b[0;32m----> 3\u001b[0;31m \u001b[0mfiles\u001b[0m\u001b[0;34m.\u001b[0m\u001b[0mdownload\u001b[0m\u001b[0;34m(\u001b[0m\u001b[0;34m'last_dataset_cleaned.csv'\u001b[0m\u001b[0;34m)\u001b[0m\u001b[0;34m\u001b[0m\u001b[0;34m\u001b[0m\u001b[0m\n\u001b[0m",
            "\u001b[0;32m/usr/local/lib/python3.11/dist-packages/google/colab/files.py\u001b[0m in \u001b[0;36mdownload\u001b[0;34m(filename)\u001b[0m\n\u001b[1;32m    231\u001b[0m   \u001b[0;32mif\u001b[0m \u001b[0;32mnot\u001b[0m \u001b[0m_os\u001b[0m\u001b[0;34m.\u001b[0m\u001b[0mpath\u001b[0m\u001b[0;34m.\u001b[0m\u001b[0mexists\u001b[0m\u001b[0;34m(\u001b[0m\u001b[0mfilename\u001b[0m\u001b[0;34m)\u001b[0m\u001b[0;34m:\u001b[0m\u001b[0;34m\u001b[0m\u001b[0;34m\u001b[0m\u001b[0m\n\u001b[1;32m    232\u001b[0m     \u001b[0mmsg\u001b[0m \u001b[0;34m=\u001b[0m \u001b[0;34m'Cannot find file: {}'\u001b[0m\u001b[0;34m.\u001b[0m\u001b[0mformat\u001b[0m\u001b[0;34m(\u001b[0m\u001b[0mfilename\u001b[0m\u001b[0;34m)\u001b[0m\u001b[0;34m\u001b[0m\u001b[0;34m\u001b[0m\u001b[0m\n\u001b[0;32m--> 233\u001b[0;31m     \u001b[0;32mraise\u001b[0m \u001b[0mFileNotFoundError\u001b[0m\u001b[0;34m(\u001b[0m\u001b[0mmsg\u001b[0m\u001b[0;34m)\u001b[0m  \u001b[0;31m# pylint: disable=undefined-variable\u001b[0m\u001b[0;34m\u001b[0m\u001b[0;34m\u001b[0m\u001b[0m\n\u001b[0m\u001b[1;32m    234\u001b[0m \u001b[0;34m\u001b[0m\u001b[0m\n\u001b[1;32m    235\u001b[0m   \u001b[0mcomm_manager\u001b[0m \u001b[0;34m=\u001b[0m \u001b[0m_IPython\u001b[0m\u001b[0;34m.\u001b[0m\u001b[0mget_ipython\u001b[0m\u001b[0;34m(\u001b[0m\u001b[0;34m)\u001b[0m\u001b[0;34m.\u001b[0m\u001b[0mkernel\u001b[0m\u001b[0;34m.\u001b[0m\u001b[0mcomm_manager\u001b[0m\u001b[0;34m\u001b[0m\u001b[0;34m\u001b[0m\u001b[0m\n",
            "\u001b[0;31mFileNotFoundError\u001b[0m: Cannot find file: last_dataset_cleaned.csv"
          ]
        }
      ]
    }
  ]
}