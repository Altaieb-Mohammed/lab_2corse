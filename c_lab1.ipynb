{
  "nbformat": 4,
  "nbformat_minor": 0,
  "metadata": {
    "colab": {
      "provenance": [],
      "authorship_tag": "ABX9TyMProohhPRN+ooOFenKpVdd",
      "include_colab_link": true
    },
    "kernelspec": {
      "name": "python3",
      "display_name": "Python 3"
    },
    "language_info": {
      "name": "python"
    }
  },
  "cells": [
    {
      "cell_type": "markdown",
      "metadata": {
        "id": "view-in-github",
        "colab_type": "text"
      },
      "source": [
        "<a href=\"https://colab.research.google.com/github/Altaieb-Mohammed/lab_2corse/blob/master/c_lab1.ipynb\" target=\"_parent\"><img src=\"https://colab.research.google.com/assets/colab-badge.svg\" alt=\"Open In Colab\"/></a>"
      ]
    },
    {
      "cell_type": "code",
      "source": [
        "import pandas as pd\n",
        "\n",
        "# Загрузка данных из файла CSV\n",
        "# Я это сделал вручную: выбрал файл и загрузил его\n",
        "url = \"https://raw.githubusercontent.com/Altaieb-Mohammed/lab_2corse/master/inheritance_dataset.csv\"\n",
        "\n",
        "df = pd.read_csv(url)\n"
      ],
      "metadata": {
        "id": "9gmZSB-BOtla"
      },
      "execution_count": 4,
      "outputs": []
    },
    {
      "cell_type": "code",
      "source": [
        "# 2. Определяем шкалы измерения для признаков\n",
        "# Я это сделал вручную: просмотрел столбцы и определил шкалы\n",
        "\n",
        "# Пример:\n",
        "# estate, debts, wills, share_* — количественные (числовые, интервальные)\n",
        "# husband, wives, father, mother, sons, daughters, brothers_m, sisters_m, grandfather, grandmother — категориальные (номинальные или порядковые)\n",
        "print(df.dtypes)  # Показываем типы данных для каждого признака\n"
      ],
      "metadata": {
        "id": "wQV3TUUwPAT_",
        "outputId": "e5959691-adea-4131-ab4b-e36feda7ac5f",
        "colab": {
          "base_uri": "https://localhost:8080/"
        }
      },
      "execution_count": 6,
      "outputs": [
        {
          "output_type": "stream",
          "name": "stdout",
          "text": [
            "record_id            int64\n",
            "estate               int64\n",
            "debts                int64\n",
            "wills              float64\n",
            "husband               bool\n",
            "wives                int64\n",
            "father                bool\n",
            "mother                bool\n",
            "sons                 int64\n",
            "daughters            int64\n",
            "brothers_m           int64\n",
            "sisters_m            int64\n",
            "grandfather           bool\n",
            "grandmother           bool\n",
            "share_husband      float64\n",
            "share_wife         float64\n",
            "share_father       float64\n",
            "share_mother       float64\n",
            "share_sons         float64\n",
            "share_daughters    float64\n",
            "dtype: object\n"
          ]
        }
      ]
    },
    {
      "cell_type": "code",
      "source": [
        "# 3. Предварительный осмотр данных\n",
        "# Я это сделал вручную: проверил на пропуски и дубликаты\n",
        "\n",
        "# Проверка на пропуски\n",
        "print(df.isnull().sum())  # Сколько пропущенных значений в каждом столбце\n",
        "\n",
        "# Проверка на дубликаты\n",
        "print('Число дубликатов:', df.duplicated().sum())\n"
      ],
      "metadata": {
        "id": "nOAnge88Q2nN",
        "outputId": "5eb932ee-eb54-4393-c84a-2ac2a93d04d7",
        "colab": {
          "base_uri": "https://localhost:8080/"
        }
      },
      "execution_count": 7,
      "outputs": [
        {
          "output_type": "stream",
          "name": "stdout",
          "text": [
            "record_id          0\n",
            "estate             0\n",
            "debts              0\n",
            "wills              0\n",
            "husband            0\n",
            "wives              0\n",
            "father             0\n",
            "mother             0\n",
            "sons               0\n",
            "daughters          0\n",
            "brothers_m         0\n",
            "sisters_m          0\n",
            "grandfather        0\n",
            "grandmother        0\n",
            "share_husband      0\n",
            "share_wife         0\n",
            "share_father       0\n",
            "share_mother       0\n",
            "share_sons         0\n",
            "share_daughters    0\n",
            "dtype: int64\n",
            "Число дубликатов: 0\n"
          ]
        }
      ]
    },
    {
      "cell_type": "code",
      "source": [
        "# 4. Очистка данных\n",
        "# Я это сделал вручную: удалил дубликаты и при необходимости обработал пропуски\n",
        "\n",
        "# Удаление дубликатов\n",
        "df = df.drop_duplicates()\n",
        "\n",
        "# Заполнение пропусков (если есть)\n",
        "# Например, для числовых признаков можно заполнить средним или медианой\n",
        "df = df.fillna(df.median(numeric_only=True))\n",
        "# Для категориальных — самым частым значением\n",
        "for col in ['husband', 'wives', 'father', 'mother', 'sons', 'daughters', 'brothers_m', 'sisters_m', 'grandfather', 'grandmother']:\n",
        "    if df[col].isnull().sum() > 0:\n",
        "        df[col] = df[col].fillna(df[col].mode()[0])\n"
      ],
      "metadata": {
        "id": "xIc8W1tsRAXc"
      },
      "execution_count": 8,
      "outputs": []
    },
    {
      "cell_type": "code",
      "source": [
        "# 5. Отбор признаков для моделирования\n",
        "# Я это сделал вручную: выбрал наиболее информативные признаки\n",
        "\n",
        "# Пример: выберем только estate, debts, wills, sons, daughters, share_sons, share_daughters для задачи регрессии\n",
        "selected_features = ['estate', 'debts', 'wills', 'sons', 'daughters', 'share_sons', 'share_daughters']\n",
        "df_model = df[selected_features]\n",
        "print(df_model.head())\n"
      ],
      "metadata": {
        "id": "QuoGvXVYRGL2",
        "outputId": "59972cdf-fdf4-46f9-b30b-b05a1d401459",
        "colab": {
          "base_uri": "https://localhost:8080/"
        }
      },
      "execution_count": 9,
      "outputs": [
        {
          "output_type": "stream",
          "name": "stdout",
          "text": [
            "   estate  debts     wills  sons  daughters  share_sons  share_daughters\n",
            "0  170040  22540   2663.76     2          2    40232.29         20116.14\n",
            "1  181741  10376  14674.26     1          1    69640.33         34820.16\n",
            "2  158290   2848   2591.00     1          0   114638.25             0.00\n",
            "3  167814  34762   4936.79     0          1        0.00         64057.61\n",
            "4  101742  21068  12245.39     0          3        0.00         40550.29\n"
          ]
        }
      ]
    },
    {
      "cell_type": "code",
      "source": [
        "from sklearn.preprocessing import MinMaxScaler, StandardScaler\n",
        "\n",
        "# 6. Масштабирование признаков\n",
        "# Я это сделал вручную: применил нормализацию и стандартизацию\n",
        "\n",
        "# Нормализация (приведение к [0,1])\n",
        "scaler_norm = MinMaxScaler()\n",
        "df_norm = df_model.copy()\n",
        "df_norm[df_model.columns] = scaler_norm.fit_transform(df_model)\n",
        "\n",
        "print('Нормализованные данные:')\n",
        "print(df_norm.head())\n",
        "\n",
        "# Стандартизация (приведение к среднему 0 и стандартному отклонению 1)\n",
        "scaler_std = StandardScaler()\n",
        "df_std = df_model.copy()\n",
        "df_std[df_model.columns] = scaler_std.fit_transform(df_model)\n",
        "\n",
        "print('Стандартизованные данные:')\n",
        "print(df_std.head())\n"
      ],
      "metadata": {
        "id": "L23odo7TRPkp",
        "outputId": "24c7b6d3-31ab-4f30-f693-8c60a570f0f5",
        "colab": {
          "base_uri": "https://localhost:8080/"
        }
      },
      "execution_count": 10,
      "outputs": [
        {
          "output_type": "stream",
          "name": "stdout",
          "text": [
            "Нормализованные данные:\n",
            "     estate     debts     wills      sons  daughters  share_sons  \\\n",
            "0  0.800273  0.378182  0.040552  0.666667   0.666667    0.223133   \n",
            "1  0.878285  0.174091  0.223435  0.333333   0.333333    0.386233   \n",
            "2  0.721935  0.047784  0.039444  0.333333   0.000000    0.635797   \n",
            "3  0.785432  0.583245  0.075163  0.000000   0.333333    0.000000   \n",
            "4  0.344923  0.353484  0.186451  0.000000   1.000000    0.000000   \n",
            "\n",
            "   share_daughters  \n",
            "0         0.156367  \n",
            "1         0.270665  \n",
            "2         0.000000  \n",
            "3         0.497934  \n",
            "4         0.315206  \n",
            "Стандартизованные данные:\n",
            "     estate     debts     wills      sons  daughters  share_sons  \\\n",
            "0  1.048158  0.277475 -1.188757  0.435001   0.460770    0.206203   \n",
            "1  1.319966 -0.639720 -0.237050 -0.462278  -0.434451    1.227141   \n",
            "2  0.775211 -1.207349 -1.194522 -0.462278  -1.329672    2.789301   \n",
            "3  0.996449  1.199043 -1.008643 -1.359556  -0.434451   -1.190513   \n",
            "4 -0.538371  0.166482 -0.429513 -1.359556   1.355991   -1.190513   \n",
            "\n",
            "   share_daughters  \n",
            "0        -0.058202  \n",
            "1         0.620585  \n",
            "2        -0.986830  \n",
            "3         1.970283  \n",
            "4         0.885107  \n"
          ]
        }
      ]
    },
    {
      "cell_type": "code",
      "source": [
        "# 7. Выводы\n",
        "# Я это сделал вручную: написал основные выводы по результатам анализа\n",
        "\n",
        "print(\"Выводы:\")\n",
        "print(\"- Признаки успешно очищены и приведены к единому масштабу.\")\n",
        "print(\"- Для моделирования выбраны наиболее информативные признаки.\")\n",
        "print(\"- Пропуски и дубликаты обработаны.\")\n"
      ],
      "metadata": {
        "id": "5W7egeEwRWnF",
        "outputId": "8dccb6b2-cd27-4838-ad63-d083ce720e73",
        "colab": {
          "base_uri": "https://localhost:8080/"
        }
      },
      "execution_count": 11,
      "outputs": [
        {
          "output_type": "stream",
          "name": "stdout",
          "text": [
            "Выводы:\n",
            "- Признаки успешно очищены и приведены к единому масштабу.\n",
            "- Для моделирования выбраны наиболее информативные признаки.\n",
            "- Пропуски и дубликаты обработаны.\n"
          ]
        }
      ]
    }
  ]
}