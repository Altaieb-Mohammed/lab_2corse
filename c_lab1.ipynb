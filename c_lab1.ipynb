{
  "nbformat": 4,
  "nbformat_minor": 0,
  "metadata": {
    "colab": {
      "provenance": [],
      "authorship_tag": "ABX9TyM7/vfOn4YEa9e8+uobBHFu",
      "include_colab_link": true
    },
    "kernelspec": {
      "name": "python3",
      "display_name": "Python 3"
    },
    "language_info": {
      "name": "python"
    }
  },
  "cells": [
    {
      "cell_type": "markdown",
      "metadata": {
        "id": "view-in-github",
        "colab_type": "text"
      },
      "source": [
        "<a href=\"https://colab.research.google.com/github/Altaieb-Mohammed/lab_2corse/blob/master/c_lab1.ipynb\" target=\"_parent\"><img src=\"https://colab.research.google.com/assets/colab-badge.svg\" alt=\"Open In Colab\"/></a>"
      ]
    },
    {
      "cell_type": "code",
      "source": [
        "import pandas as pd\n",
        "url = \"https://raw.githubusercontent.com/Altaieb-Mohammed/lab_2corse/master/Bank_Customers.csv\"\n",
        "data = pd.read_csv(url)\n"
      ],
      "metadata": {
        "id": "gQu0UWWDZD_M"
      },
      "execution_count": 11,
      "outputs": []
    },
    {
      "cell_type": "code",
      "source": [
        "print(data.head(5))\n",
        "\n",
        "print(data.isnull().sum())\n",
        "\n",
        "print(data.duplicated().sum())\n"
      ],
      "metadata": {
        "id": "KmcFAiMhaVu8",
        "colab": {
          "base_uri": "https://localhost:8080/"
        },
        "outputId": "64554a13-4fd8-4f5c-94f8-fe591dd42f56"
      },
      "execution_count": 21,
      "outputs": [
        {
          "output_type": "stream",
          "name": "stdout",
          "text": [
            "   customer_id  credit_score country  gender  age  tenure    balance  \\\n",
            "0     15634602           619  France  Female   42       2       0.00   \n",
            "1     15647311           608   Spain  Female   41       1   83807.86   \n",
            "2     15619304           502  France  Female   42       8  159660.80   \n",
            "3     15701354           699  France  Female   39       1       0.00   \n",
            "4     15737888           850   Spain  Female   43       2  125510.82   \n",
            "\n",
            "   products_number  credit_card  active_member  estimated_salary  churn  \n",
            "0                1            1              1         101348.88      1  \n",
            "1                1            0              1         112542.58      0  \n",
            "2                3            1              0         113931.57      1  \n",
            "3                2            0              0          93826.63      0  \n",
            "4                1            1              1          79084.10      0  \n",
            "customer_id         0\n",
            "credit_score        0\n",
            "country             0\n",
            "gender              0\n",
            "age                 0\n",
            "tenure              0\n",
            "balance             0\n",
            "products_number     0\n",
            "credit_card         0\n",
            "active_member       0\n",
            "estimated_salary    0\n",
            "churn               0\n",
            "dtype: int64\n",
            "0\n"
          ]
        }
      ]
    },
    {
      "cell_type": "code",
      "source": [
        "# Удаление дубликатов\n",
        "data = data.drop_duplicates()\n",
        "\n",
        "# Заполнение пропусков (например, медианой)\n",
        "data = data.fillna(data.median(numeric_only=True))\n"
      ],
      "metadata": {
        "id": "SOH8bVwI60kd"
      },
      "execution_count": 13,
      "outputs": []
    },
    {
      "cell_type": "code",
      "source": [
        "from sklearn.preprocessing import MinMaxScaler\n",
        "\n",
        "scaler = MinMaxScaler()\n",
        "data_scaled = scaler.fit_transform(data[['credit_score', 'age', 'tenure', 'balance', 'estimated_salary']])\n"
      ],
      "metadata": {
        "id": "qBFtPnAe7Bb9"
      },
      "execution_count": 22,
      "outputs": []
    },
    {
      "cell_type": "code",
      "source": [
        "from sklearn.preprocessing import StandardScaler\n",
        "\n",
        "scaler = StandardScaler()\n",
        "data_scaled = scaler.fit_transform(data[['credit_score', 'age', 'tenure', 'balance', 'estimated_salary']])\n"
      ],
      "metadata": {
        "id": "oAHKlyuI7BJV"
      },
      "execution_count": 23,
      "outputs": []
    },
    {
      "cell_type": "code",
      "source": [
        "import pandas as pd\n",
        "from sklearn.compose import ColumnTransformer\n",
        "from sklearn.preprocessing import StandardScaler, OneHotEncoder\n",
        "\n",
        "# Load your data (replace with your file path)\n",
        "url = \"https://raw.githubusercontent.com/Altaieb-Mohammed/lab_2corse/master/Bank_Customers.csv\"\n",
        "data = pd.read_csv(url)\n",
        "\n",
        "# Remove duplicates\n",
        "data = data.drop_duplicates()\n",
        "\n",
        "# Define features and target\n",
        "X = data.drop(['customer_id', 'churn'], axis=1)\n",
        "y = data['churn']\n",
        "\n",
        "# Identify categorical and numerical columns\n",
        "cat_cols = ['country', 'gender']\n",
        "num_cols = ['credit_score', 'age', 'tenure', 'balance', 'products_number', 'estimated_salary']\n",
        "\n",
        "# Preprocessing\n",
        "preprocessor = ColumnTransformer(\n",
        "    transformers=[\n",
        "        ('num', StandardScaler(), num_cols),\n",
        "        ('cat', OneHotEncoder(), cat_cols)\n",
        "    ])\n",
        "\n",
        "# Fit and transform\n",
        "X_processed = preprocessor.fit_transform(X)\n",
        "\n",
        "# If you want to keep the original column names after one-hot encoding (optional)\n",
        "# This is a bit tricky, but here's a way to get the new feature names:\n",
        "cat_encoder = preprocessor.named_transformers_['cat']\n",
        "new_cat_cols = cat_encoder.get_feature_names_out(cat_cols)\n",
        "all_cols = num_cols + list(new_cat_cols)\n",
        "\n",
        "# Convert to DataFrame\n",
        "X_processed_df = pd.DataFrame(X_processed, columns=all_cols)\n",
        "\n",
        "# Add the target back if you want\n",
        "X_processed_df['churn'] = y.values\n",
        "\n",
        "# Save to CSV\n",
        "X_processed_df.to_csv('bank_customers_processed.csv', index=False)\n"
      ],
      "metadata": {
        "id": "zUYW2IuN7IvF"
      },
      "execution_count": 24,
      "outputs": []
    },
    {
      "cell_type": "code",
      "source": [
        "# Remove duplicates\n",
        "data = data.drop_duplicates()\n",
        "\n",
        "# (Optional) Handle missing values if any\n",
        "# data = data.fillna(data.median(numeric_only=True))\n",
        "\n",
        "# Save to CSV\n",
        "data.to_csv('bank_customers_cleaned.csv', index=False)\n"
      ],
      "metadata": {
        "id": "mYAA85PeG8Hm"
      },
      "execution_count": 25,
      "outputs": []
    },
    {
      "cell_type": "code",
      "source": [
        "from google.colab import files\n",
        "files.download('bank_customers_cleaned.csv')\n"
      ],
      "metadata": {
        "id": "3Zj2TtVbHUSE",
        "outputId": "a98e68fc-b4e3-4c85-8a3b-fe63224d4ce9",
        "colab": {
          "base_uri": "https://localhost:8080/",
          "height": 17
        }
      },
      "execution_count": 26,
      "outputs": [
        {
          "output_type": "display_data",
          "data": {
            "text/plain": [
              "<IPython.core.display.Javascript object>"
            ],
            "application/javascript": [
              "\n",
              "    async function download(id, filename, size) {\n",
              "      if (!google.colab.kernel.accessAllowed) {\n",
              "        return;\n",
              "      }\n",
              "      const div = document.createElement('div');\n",
              "      const label = document.createElement('label');\n",
              "      label.textContent = `Downloading \"${filename}\": `;\n",
              "      div.appendChild(label);\n",
              "      const progress = document.createElement('progress');\n",
              "      progress.max = size;\n",
              "      div.appendChild(progress);\n",
              "      document.body.appendChild(div);\n",
              "\n",
              "      const buffers = [];\n",
              "      let downloaded = 0;\n",
              "\n",
              "      const channel = await google.colab.kernel.comms.open(id);\n",
              "      // Send a message to notify the kernel that we're ready.\n",
              "      channel.send({})\n",
              "\n",
              "      for await (const message of channel.messages) {\n",
              "        // Send a message to notify the kernel that we're ready.\n",
              "        channel.send({})\n",
              "        if (message.buffers) {\n",
              "          for (const buffer of message.buffers) {\n",
              "            buffers.push(buffer);\n",
              "            downloaded += buffer.byteLength;\n",
              "            progress.value = downloaded;\n",
              "          }\n",
              "        }\n",
              "      }\n",
              "      const blob = new Blob(buffers, {type: 'application/binary'});\n",
              "      const a = document.createElement('a');\n",
              "      a.href = window.URL.createObjectURL(blob);\n",
              "      a.download = filename;\n",
              "      div.appendChild(a);\n",
              "      a.click();\n",
              "      div.remove();\n",
              "    }\n",
              "  "
            ]
          },
          "metadata": {}
        },
        {
          "output_type": "display_data",
          "data": {
            "text/plain": [
              "<IPython.core.display.Javascript object>"
            ],
            "application/javascript": [
              "download(\"download_90b90f6c-e325-45b2-9254-1b83ad18d765\", \"bank_customers_cleaned.csv\", 559217)"
            ]
          },
          "metadata": {}
        }
      ]
    }
  ]
}