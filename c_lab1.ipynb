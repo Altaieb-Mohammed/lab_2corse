{
  "nbformat": 4,
  "nbformat_minor": 0,
  "metadata": {
    "colab": {
      "provenance": [],
      "toc_visible": true,
      "authorship_tag": "ABX9TyM/wcuhl5B2WpvPbmgATWYd",
      "include_colab_link": true
    },
    "kernelspec": {
      "name": "python3",
      "display_name": "Python 3"
    },
    "language_info": {
      "name": "python"
    }
  },
  "cells": [
    {
      "cell_type": "markdown",
      "metadata": {
        "id": "view-in-github",
        "colab_type": "text"
      },
      "source": [
        "<a href=\"https://colab.research.google.com/github/Altaieb-Mohammed/lab_2corse/blob/master/c_lab1.ipynb\" target=\"_parent\"><img src=\"https://colab.research.google.com/assets/colab-badge.svg\" alt=\"Open In Colab\"/></a>"
      ]
    },
    {
      "cell_type": "code",
      "source": [
        "\n",
        "\n",
        "import pandas as pd\n",
        "\n",
        "\n",
        "def clean_inheritance_data(input_path, output_path):\n",
        "    url = \"https://raw.githubusercontent.com/Altaieb-Mohammed/lab_2corse/master/final_inheritanc.csv\"\n",
        "    # Load the raw data\n",
        "    df = pd.read_csv(url)\n",
        "\n",
        "    # 1. Remove incomplete last row\n",
        "    df = df.iloc[:-1]\n",
        "\n",
        "    # 2. Convert all columns to numeric\n",
        "    numeric_cols = df.columns\n",
        "    df[numeric_cols] = df[numeric_cols].apply(pd.to_numeric, errors='coerce')\n",
        "\n",
        "    # 3. Fix binary columns (0 or 1 only)\n",
        "    binary_cols = ['husband', 'wives', 'father', 'mother', 'grandfather', 'grandmother']\n",
        "    for col in binary_cols:\n",
        "        df[col] = df[col].clip(0, 1).astype(int)\n",
        "\n",
        "    # 4. Fix count columns (non-negative integers)\n",
        "    count_cols = ['sons', 'daughters', 'brothers_m', 'sisters_m']\n",
        "    for col in count_cols:\n",
        "        df[col] = df[col].clip(0).astype(int)\n",
        "\n",
        "    # 5. Ensure financial columns are non-negative\n",
        "    financial_cols = ['estate', 'debts', 'wills'] + [col for col in df.columns if 'share_' in col]\n",
        "    for col in financial_cols:\n",
        "        df[col] = df[col].clip(0)\n",
        "\n",
        "    # 6. Enforce logical consistency\n",
        "    df.loc[df['husband'] == 0, 'share_husband'] = 0\n",
        "    df.loc[df['wives'] == 0, 'share_wife'] = 0\n",
        "    df.loc[df['father'] == 0, 'share_father'] = 0\n",
        "    df.loc[df['mother'] == 0, 'share_mother'] = 0\n",
        "    df.loc[df['sons'] == 0, 'share_sons'] = 0\n",
        "    df.loc[df['daughters'] == 0, 'share_daughters'] = 0\n",
        "\n",
        "    # 7. Remove cases with nothing to distribute\n",
        "    df = df[df['estate'] > (df['debts'] + df['wills'])]\n",
        "\n",
        "    # 8. Save cleaned data\n",
        "    df.to_csv(output_path, index=False)\n",
        "    print(f\"Successfully cleaned data saved to {output_path}\")\n",
        "\n",
        "if __name__ == \"__main__\":\n",
        "    input_file = \"final_inheritanc.csv\"  # Change if your file has different name\n",
        "    output_file = \"cleaned_inheritance.csv\"\n",
        "    clean_inheritance_data(input_file, output_file)"
      ],
      "metadata": {
        "id": "y6zZkL2aw9To",
        "outputId": "d6474e27-e631-4c99-a6dd-a12ddfb7602d",
        "colab": {
          "base_uri": "https://localhost:8080/"
        }
      },
      "execution_count": 17,
      "outputs": [
        {
          "output_type": "stream",
          "name": "stdout",
          "text": [
            "Successfully cleaned data saved to cleaned_inheritance.csv\n"
          ]
        }
      ]
    },
    {
      "cell_type": "code",
      "source": [
        "import os\n",
        "print(os.path.abspath(\"cleaned_inheritance.csv\"))"
      ],
      "metadata": {
        "id": "wAZrP6II6wqC",
        "outputId": "582c83f6-a610-4588-9ed0-b19522e52877",
        "colab": {
          "base_uri": "https://localhost:8080/"
        }
      },
      "execution_count": 18,
      "outputs": [
        {
          "output_type": "stream",
          "name": "stdout",
          "text": [
            "/content/cleaned_inheritance.csv\n"
          ]
        }
      ]
    },
    {
      "cell_type": "code",
      "source": [
        "from google.colab import files\n",
        "files.download(\"/content/cleaned_inheritance.csv\")\n"
      ],
      "metadata": {
        "id": "zMAEbwRe7aCG",
        "outputId": "97949d4b-ea3d-482d-9950-c13534dd0818",
        "colab": {
          "base_uri": "https://localhost:8080/",
          "height": 17
        }
      },
      "execution_count": 19,
      "outputs": [
        {
          "output_type": "display_data",
          "data": {
            "text/plain": [
              "<IPython.core.display.Javascript object>"
            ],
            "application/javascript": [
              "\n",
              "    async function download(id, filename, size) {\n",
              "      if (!google.colab.kernel.accessAllowed) {\n",
              "        return;\n",
              "      }\n",
              "      const div = document.createElement('div');\n",
              "      const label = document.createElement('label');\n",
              "      label.textContent = `Downloading \"${filename}\": `;\n",
              "      div.appendChild(label);\n",
              "      const progress = document.createElement('progress');\n",
              "      progress.max = size;\n",
              "      div.appendChild(progress);\n",
              "      document.body.appendChild(div);\n",
              "\n",
              "      const buffers = [];\n",
              "      let downloaded = 0;\n",
              "\n",
              "      const channel = await google.colab.kernel.comms.open(id);\n",
              "      // Send a message to notify the kernel that we're ready.\n",
              "      channel.send({})\n",
              "\n",
              "      for await (const message of channel.messages) {\n",
              "        // Send a message to notify the kernel that we're ready.\n",
              "        channel.send({})\n",
              "        if (message.buffers) {\n",
              "          for (const buffer of message.buffers) {\n",
              "            buffers.push(buffer);\n",
              "            downloaded += buffer.byteLength;\n",
              "            progress.value = downloaded;\n",
              "          }\n",
              "        }\n",
              "      }\n",
              "      const blob = new Blob(buffers, {type: 'application/binary'});\n",
              "      const a = document.createElement('a');\n",
              "      a.href = window.URL.createObjectURL(blob);\n",
              "      a.download = filename;\n",
              "      div.appendChild(a);\n",
              "      a.click();\n",
              "      div.remove();\n",
              "    }\n",
              "  "
            ]
          },
          "metadata": {}
        },
        {
          "output_type": "display_data",
          "data": {
            "text/plain": [
              "<IPython.core.display.Javascript object>"
            ],
            "application/javascript": [
              "download(\"download_8c8e53b0-156e-4699-ab1d-40c15c8b1ee2\", \"cleaned_inheritance.csv\", 1349531)"
            ]
          },
          "metadata": {}
        }
      ]
    }
  ]
}