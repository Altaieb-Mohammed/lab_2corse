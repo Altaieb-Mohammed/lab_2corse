{
  "nbformat": 4,
  "nbformat_minor": 0,
  "metadata": {
    "colab": {
      "provenance": [],
      "authorship_tag": "ABX9TyND8vFVYPbsqfRtr+O3qJ2g",
      "include_colab_link": true
    },
    "kernelspec": {
      "name": "python3",
      "display_name": "Python 3"
    },
    "language_info": {
      "name": "python"
    }
  },
  "cells": [
    {
      "cell_type": "markdown",
      "metadata": {
        "id": "view-in-github",
        "colab_type": "text"
      },
      "source": [
        "<a href=\"https://colab.research.google.com/github/Altaieb-Mohammed/lab_2corse/blob/master/c_lab1.ipynb\" target=\"_parent\"><img src=\"https://colab.research.google.com/assets/colab-badge.svg\" alt=\"Open In Colab\"/></a>"
      ]
    },
    {
      "cell_type": "code",
      "source": [
        "import pandas as pd\n",
        "\n",
        "# Загрузка данных из файла CSV\n",
        "# Я это сделал вручную: выбрал файл и загрузил его\n",
        "url = \"https://raw.githubusercontent.com/Altaieb-Mohammed/lab_2corse/master/inheritance_dataset.csv\"\n",
        "\n",
        "df = pd.read_csv(url)"
      ],
      "metadata": {
        "id": "9gmZSB-BOtla"
      },
      "execution_count": null,
      "outputs": []
    },
    {
      "cell_type": "code",
      "source": [
        "\n",
        "import pandas as pd\n",
        "from google.colab import files\n",
        "\n",
        "# Upload your file\n",
        "uploaded = files.upload()\n",
        "\n",
        "# Update this if your file has a different name\n",
        "input_filename = 'inheritance_dataset_enhanced-1.csv'\n",
        "\n",
        "# Load the data\n",
        "df = pd.read_csv(input_filename)\n",
        "\n",
        "# Fill 'distributed'\n",
        "df['distributed'] = df['distribution_check'].apply(lambda x: \"Yes\" if x == \"نعم\" else \"No\")\n",
        "\n",
        "# Fill 'notes'\n",
        "df['notes'] = df['distribution_check'].apply(lambda x: \"\" if x == \"نعم\" else \"Check calculations, error in distribution\")\n",
        "\n",
        "# Fill 'death_date' and 'distribution_date'\n",
        "df['death_date'] = \"Not available\"\n",
        "df['distribution_date'] = \"Not available\"\n",
        "\n",
        "# Fill 'country'\n",
        "df['country'] = \"Not specified\"\n",
        "\n",
        "# Fill 'special_cases'\n",
        "df['special_cases'] = df['distribution_check'].apply(\n",
        "    lambda x: \"\" if x == \"نعم\" else \"Special case: check for Awl, Radd, or error\"\n",
        ")\n",
        "\n",
        "# Save the updated file\n",
        "output_filename = 'inheritance_dataset_filled_en.csv'\n",
        "df.to_csv(output_filename, index=False)\n",
        "\n",
        "# Download the file\n",
        "files.download(output_filename)"
      ],
      "metadata": {
        "id": "Ti5cHnjOdyl-",
        "outputId": "802328ec-a55c-4c16-c019-fd00f7488f95",
        "colab": {
          "base_uri": "https://localhost:8080/",
          "height": 710
        }
      },
      "execution_count": 5,
      "outputs": [
        {
          "output_type": "display_data",
          "data": {
            "text/plain": [
              "<IPython.core.display.HTML object>"
            ],
            "text/html": [
              "\n",
              "     <input type=\"file\" id=\"files-c371b315-68c6-46ec-9a02-d61232f7e47b\" name=\"files[]\" multiple disabled\n",
              "        style=\"border:none\" />\n",
              "     <output id=\"result-c371b315-68c6-46ec-9a02-d61232f7e47b\">\n",
              "      Upload widget is only available when the cell has been executed in the\n",
              "      current browser session. Please rerun this cell to enable.\n",
              "      </output>\n",
              "      <script>// Copyright 2017 Google LLC\n",
              "//\n",
              "// Licensed under the Apache License, Version 2.0 (the \"License\");\n",
              "// you may not use this file except in compliance with the License.\n",
              "// You may obtain a copy of the License at\n",
              "//\n",
              "//      http://www.apache.org/licenses/LICENSE-2.0\n",
              "//\n",
              "// Unless required by applicable law or agreed to in writing, software\n",
              "// distributed under the License is distributed on an \"AS IS\" BASIS,\n",
              "// WITHOUT WARRANTIES OR CONDITIONS OF ANY KIND, either express or implied.\n",
              "// See the License for the specific language governing permissions and\n",
              "// limitations under the License.\n",
              "\n",
              "/**\n",
              " * @fileoverview Helpers for google.colab Python module.\n",
              " */\n",
              "(function(scope) {\n",
              "function span(text, styleAttributes = {}) {\n",
              "  const element = document.createElement('span');\n",
              "  element.textContent = text;\n",
              "  for (const key of Object.keys(styleAttributes)) {\n",
              "    element.style[key] = styleAttributes[key];\n",
              "  }\n",
              "  return element;\n",
              "}\n",
              "\n",
              "// Max number of bytes which will be uploaded at a time.\n",
              "const MAX_PAYLOAD_SIZE = 100 * 1024;\n",
              "\n",
              "function _uploadFiles(inputId, outputId) {\n",
              "  const steps = uploadFilesStep(inputId, outputId);\n",
              "  const outputElement = document.getElementById(outputId);\n",
              "  // Cache steps on the outputElement to make it available for the next call\n",
              "  // to uploadFilesContinue from Python.\n",
              "  outputElement.steps = steps;\n",
              "\n",
              "  return _uploadFilesContinue(outputId);\n",
              "}\n",
              "\n",
              "// This is roughly an async generator (not supported in the browser yet),\n",
              "// where there are multiple asynchronous steps and the Python side is going\n",
              "// to poll for completion of each step.\n",
              "// This uses a Promise to block the python side on completion of each step,\n",
              "// then passes the result of the previous step as the input to the next step.\n",
              "function _uploadFilesContinue(outputId) {\n",
              "  const outputElement = document.getElementById(outputId);\n",
              "  const steps = outputElement.steps;\n",
              "\n",
              "  const next = steps.next(outputElement.lastPromiseValue);\n",
              "  return Promise.resolve(next.value.promise).then((value) => {\n",
              "    // Cache the last promise value to make it available to the next\n",
              "    // step of the generator.\n",
              "    outputElement.lastPromiseValue = value;\n",
              "    return next.value.response;\n",
              "  });\n",
              "}\n",
              "\n",
              "/**\n",
              " * Generator function which is called between each async step of the upload\n",
              " * process.\n",
              " * @param {string} inputId Element ID of the input file picker element.\n",
              " * @param {string} outputId Element ID of the output display.\n",
              " * @return {!Iterable<!Object>} Iterable of next steps.\n",
              " */\n",
              "function* uploadFilesStep(inputId, outputId) {\n",
              "  const inputElement = document.getElementById(inputId);\n",
              "  inputElement.disabled = false;\n",
              "\n",
              "  const outputElement = document.getElementById(outputId);\n",
              "  outputElement.innerHTML = '';\n",
              "\n",
              "  const pickedPromise = new Promise((resolve) => {\n",
              "    inputElement.addEventListener('change', (e) => {\n",
              "      resolve(e.target.files);\n",
              "    });\n",
              "  });\n",
              "\n",
              "  const cancel = document.createElement('button');\n",
              "  inputElement.parentElement.appendChild(cancel);\n",
              "  cancel.textContent = 'Cancel upload';\n",
              "  const cancelPromise = new Promise((resolve) => {\n",
              "    cancel.onclick = () => {\n",
              "      resolve(null);\n",
              "    };\n",
              "  });\n",
              "\n",
              "  // Wait for the user to pick the files.\n",
              "  const files = yield {\n",
              "    promise: Promise.race([pickedPromise, cancelPromise]),\n",
              "    response: {\n",
              "      action: 'starting',\n",
              "    }\n",
              "  };\n",
              "\n",
              "  cancel.remove();\n",
              "\n",
              "  // Disable the input element since further picks are not allowed.\n",
              "  inputElement.disabled = true;\n",
              "\n",
              "  if (!files) {\n",
              "    return {\n",
              "      response: {\n",
              "        action: 'complete',\n",
              "      }\n",
              "    };\n",
              "  }\n",
              "\n",
              "  for (const file of files) {\n",
              "    const li = document.createElement('li');\n",
              "    li.append(span(file.name, {fontWeight: 'bold'}));\n",
              "    li.append(span(\n",
              "        `(${file.type || 'n/a'}) - ${file.size} bytes, ` +\n",
              "        `last modified: ${\n",
              "            file.lastModifiedDate ? file.lastModifiedDate.toLocaleDateString() :\n",
              "                                    'n/a'} - `));\n",
              "    const percent = span('0% done');\n",
              "    li.appendChild(percent);\n",
              "\n",
              "    outputElement.appendChild(li);\n",
              "\n",
              "    const fileDataPromise = new Promise((resolve) => {\n",
              "      const reader = new FileReader();\n",
              "      reader.onload = (e) => {\n",
              "        resolve(e.target.result);\n",
              "      };\n",
              "      reader.readAsArrayBuffer(file);\n",
              "    });\n",
              "    // Wait for the data to be ready.\n",
              "    let fileData = yield {\n",
              "      promise: fileDataPromise,\n",
              "      response: {\n",
              "        action: 'continue',\n",
              "      }\n",
              "    };\n",
              "\n",
              "    // Use a chunked sending to avoid message size limits. See b/62115660.\n",
              "    let position = 0;\n",
              "    do {\n",
              "      const length = Math.min(fileData.byteLength - position, MAX_PAYLOAD_SIZE);\n",
              "      const chunk = new Uint8Array(fileData, position, length);\n",
              "      position += length;\n",
              "\n",
              "      const base64 = btoa(String.fromCharCode.apply(null, chunk));\n",
              "      yield {\n",
              "        response: {\n",
              "          action: 'append',\n",
              "          file: file.name,\n",
              "          data: base64,\n",
              "        },\n",
              "      };\n",
              "\n",
              "      let percentDone = fileData.byteLength === 0 ?\n",
              "          100 :\n",
              "          Math.round((position / fileData.byteLength) * 100);\n",
              "      percent.textContent = `${percentDone}% done`;\n",
              "\n",
              "    } while (position < fileData.byteLength);\n",
              "  }\n",
              "\n",
              "  // All done.\n",
              "  yield {\n",
              "    response: {\n",
              "      action: 'complete',\n",
              "    }\n",
              "  };\n",
              "}\n",
              "\n",
              "scope.google = scope.google || {};\n",
              "scope.google.colab = scope.google.colab || {};\n",
              "scope.google.colab._files = {\n",
              "  _uploadFiles,\n",
              "  _uploadFilesContinue,\n",
              "};\n",
              "})(self);\n",
              "</script> "
            ]
          },
          "metadata": {}
        },
        {
          "output_type": "stream",
          "name": "stdout",
          "text": [
            "Saving inheritance_dataset_enhanced (1).csv to inheritance_dataset_enhanced (1) (1).csv\n"
          ]
        },
        {
          "output_type": "error",
          "ename": "FileNotFoundError",
          "evalue": "[Errno 2] No such file or directory: 'inheritance_dataset_enhanced-1.csv'",
          "traceback": [
            "\u001b[0;31m---------------------------------------------------------------------------\u001b[0m",
            "\u001b[0;31mFileNotFoundError\u001b[0m                         Traceback (most recent call last)",
            "\u001b[0;32m<ipython-input-5-f303185550df>\u001b[0m in \u001b[0;36m<cell line: 0>\u001b[0;34m()\u001b[0m\n\u001b[1;32m      9\u001b[0m \u001b[0;34m\u001b[0m\u001b[0m\n\u001b[1;32m     10\u001b[0m \u001b[0;31m# Load the data\u001b[0m\u001b[0;34m\u001b[0m\u001b[0;34m\u001b[0m\u001b[0m\n\u001b[0;32m---> 11\u001b[0;31m \u001b[0mdf\u001b[0m \u001b[0;34m=\u001b[0m \u001b[0mpd\u001b[0m\u001b[0;34m.\u001b[0m\u001b[0mread_csv\u001b[0m\u001b[0;34m(\u001b[0m\u001b[0minput_filename\u001b[0m\u001b[0;34m)\u001b[0m\u001b[0;34m\u001b[0m\u001b[0;34m\u001b[0m\u001b[0m\n\u001b[0m\u001b[1;32m     12\u001b[0m \u001b[0;34m\u001b[0m\u001b[0m\n\u001b[1;32m     13\u001b[0m \u001b[0;31m# Fill 'distributed'\u001b[0m\u001b[0;34m\u001b[0m\u001b[0;34m\u001b[0m\u001b[0m\n",
            "\u001b[0;32m/usr/local/lib/python3.11/dist-packages/pandas/io/parsers/readers.py\u001b[0m in \u001b[0;36mread_csv\u001b[0;34m(filepath_or_buffer, sep, delimiter, header, names, index_col, usecols, dtype, engine, converters, true_values, false_values, skipinitialspace, skiprows, skipfooter, nrows, na_values, keep_default_na, na_filter, verbose, skip_blank_lines, parse_dates, infer_datetime_format, keep_date_col, date_parser, date_format, dayfirst, cache_dates, iterator, chunksize, compression, thousands, decimal, lineterminator, quotechar, quoting, doublequote, escapechar, comment, encoding, encoding_errors, dialect, on_bad_lines, delim_whitespace, low_memory, memory_map, float_precision, storage_options, dtype_backend)\u001b[0m\n\u001b[1;32m   1024\u001b[0m     \u001b[0mkwds\u001b[0m\u001b[0;34m.\u001b[0m\u001b[0mupdate\u001b[0m\u001b[0;34m(\u001b[0m\u001b[0mkwds_defaults\u001b[0m\u001b[0;34m)\u001b[0m\u001b[0;34m\u001b[0m\u001b[0;34m\u001b[0m\u001b[0m\n\u001b[1;32m   1025\u001b[0m \u001b[0;34m\u001b[0m\u001b[0m\n\u001b[0;32m-> 1026\u001b[0;31m     \u001b[0;32mreturn\u001b[0m \u001b[0m_read\u001b[0m\u001b[0;34m(\u001b[0m\u001b[0mfilepath_or_buffer\u001b[0m\u001b[0;34m,\u001b[0m \u001b[0mkwds\u001b[0m\u001b[0;34m)\u001b[0m\u001b[0;34m\u001b[0m\u001b[0;34m\u001b[0m\u001b[0m\n\u001b[0m\u001b[1;32m   1027\u001b[0m \u001b[0;34m\u001b[0m\u001b[0m\n\u001b[1;32m   1028\u001b[0m \u001b[0;34m\u001b[0m\u001b[0m\n",
            "\u001b[0;32m/usr/local/lib/python3.11/dist-packages/pandas/io/parsers/readers.py\u001b[0m in \u001b[0;36m_read\u001b[0;34m(filepath_or_buffer, kwds)\u001b[0m\n\u001b[1;32m    618\u001b[0m \u001b[0;34m\u001b[0m\u001b[0m\n\u001b[1;32m    619\u001b[0m     \u001b[0;31m# Create the parser.\u001b[0m\u001b[0;34m\u001b[0m\u001b[0;34m\u001b[0m\u001b[0m\n\u001b[0;32m--> 620\u001b[0;31m     \u001b[0mparser\u001b[0m \u001b[0;34m=\u001b[0m \u001b[0mTextFileReader\u001b[0m\u001b[0;34m(\u001b[0m\u001b[0mfilepath_or_buffer\u001b[0m\u001b[0;34m,\u001b[0m \u001b[0;34m**\u001b[0m\u001b[0mkwds\u001b[0m\u001b[0;34m)\u001b[0m\u001b[0;34m\u001b[0m\u001b[0;34m\u001b[0m\u001b[0m\n\u001b[0m\u001b[1;32m    621\u001b[0m \u001b[0;34m\u001b[0m\u001b[0m\n\u001b[1;32m    622\u001b[0m     \u001b[0;32mif\u001b[0m \u001b[0mchunksize\u001b[0m \u001b[0;32mor\u001b[0m \u001b[0miterator\u001b[0m\u001b[0;34m:\u001b[0m\u001b[0;34m\u001b[0m\u001b[0;34m\u001b[0m\u001b[0m\n",
            "\u001b[0;32m/usr/local/lib/python3.11/dist-packages/pandas/io/parsers/readers.py\u001b[0m in \u001b[0;36m__init__\u001b[0;34m(self, f, engine, **kwds)\u001b[0m\n\u001b[1;32m   1618\u001b[0m \u001b[0;34m\u001b[0m\u001b[0m\n\u001b[1;32m   1619\u001b[0m         \u001b[0mself\u001b[0m\u001b[0;34m.\u001b[0m\u001b[0mhandles\u001b[0m\u001b[0;34m:\u001b[0m \u001b[0mIOHandles\u001b[0m \u001b[0;34m|\u001b[0m \u001b[0;32mNone\u001b[0m \u001b[0;34m=\u001b[0m \u001b[0;32mNone\u001b[0m\u001b[0;34m\u001b[0m\u001b[0;34m\u001b[0m\u001b[0m\n\u001b[0;32m-> 1620\u001b[0;31m         \u001b[0mself\u001b[0m\u001b[0;34m.\u001b[0m\u001b[0m_engine\u001b[0m \u001b[0;34m=\u001b[0m \u001b[0mself\u001b[0m\u001b[0;34m.\u001b[0m\u001b[0m_make_engine\u001b[0m\u001b[0;34m(\u001b[0m\u001b[0mf\u001b[0m\u001b[0;34m,\u001b[0m \u001b[0mself\u001b[0m\u001b[0;34m.\u001b[0m\u001b[0mengine\u001b[0m\u001b[0;34m)\u001b[0m\u001b[0;34m\u001b[0m\u001b[0;34m\u001b[0m\u001b[0m\n\u001b[0m\u001b[1;32m   1621\u001b[0m \u001b[0;34m\u001b[0m\u001b[0m\n\u001b[1;32m   1622\u001b[0m     \u001b[0;32mdef\u001b[0m \u001b[0mclose\u001b[0m\u001b[0;34m(\u001b[0m\u001b[0mself\u001b[0m\u001b[0;34m)\u001b[0m \u001b[0;34m->\u001b[0m \u001b[0;32mNone\u001b[0m\u001b[0;34m:\u001b[0m\u001b[0;34m\u001b[0m\u001b[0;34m\u001b[0m\u001b[0m\n",
            "\u001b[0;32m/usr/local/lib/python3.11/dist-packages/pandas/io/parsers/readers.py\u001b[0m in \u001b[0;36m_make_engine\u001b[0;34m(self, f, engine)\u001b[0m\n\u001b[1;32m   1878\u001b[0m                 \u001b[0;32mif\u001b[0m \u001b[0;34m\"b\"\u001b[0m \u001b[0;32mnot\u001b[0m \u001b[0;32min\u001b[0m \u001b[0mmode\u001b[0m\u001b[0;34m:\u001b[0m\u001b[0;34m\u001b[0m\u001b[0;34m\u001b[0m\u001b[0m\n\u001b[1;32m   1879\u001b[0m                     \u001b[0mmode\u001b[0m \u001b[0;34m+=\u001b[0m \u001b[0;34m\"b\"\u001b[0m\u001b[0;34m\u001b[0m\u001b[0;34m\u001b[0m\u001b[0m\n\u001b[0;32m-> 1880\u001b[0;31m             self.handles = get_handle(\n\u001b[0m\u001b[1;32m   1881\u001b[0m                 \u001b[0mf\u001b[0m\u001b[0;34m,\u001b[0m\u001b[0;34m\u001b[0m\u001b[0;34m\u001b[0m\u001b[0m\n\u001b[1;32m   1882\u001b[0m                 \u001b[0mmode\u001b[0m\u001b[0;34m,\u001b[0m\u001b[0;34m\u001b[0m\u001b[0;34m\u001b[0m\u001b[0m\n",
            "\u001b[0;32m/usr/local/lib/python3.11/dist-packages/pandas/io/common.py\u001b[0m in \u001b[0;36mget_handle\u001b[0;34m(path_or_buf, mode, encoding, compression, memory_map, is_text, errors, storage_options)\u001b[0m\n\u001b[1;32m    871\u001b[0m         \u001b[0;32mif\u001b[0m \u001b[0mioargs\u001b[0m\u001b[0;34m.\u001b[0m\u001b[0mencoding\u001b[0m \u001b[0;32mand\u001b[0m \u001b[0;34m\"b\"\u001b[0m \u001b[0;32mnot\u001b[0m \u001b[0;32min\u001b[0m \u001b[0mioargs\u001b[0m\u001b[0;34m.\u001b[0m\u001b[0mmode\u001b[0m\u001b[0;34m:\u001b[0m\u001b[0;34m\u001b[0m\u001b[0;34m\u001b[0m\u001b[0m\n\u001b[1;32m    872\u001b[0m             \u001b[0;31m# Encoding\u001b[0m\u001b[0;34m\u001b[0m\u001b[0;34m\u001b[0m\u001b[0m\n\u001b[0;32m--> 873\u001b[0;31m             handle = open(\n\u001b[0m\u001b[1;32m    874\u001b[0m                 \u001b[0mhandle\u001b[0m\u001b[0;34m,\u001b[0m\u001b[0;34m\u001b[0m\u001b[0;34m\u001b[0m\u001b[0m\n\u001b[1;32m    875\u001b[0m                 \u001b[0mioargs\u001b[0m\u001b[0;34m.\u001b[0m\u001b[0mmode\u001b[0m\u001b[0;34m,\u001b[0m\u001b[0;34m\u001b[0m\u001b[0;34m\u001b[0m\u001b[0m\n",
            "\u001b[0;31mFileNotFoundError\u001b[0m: [Errno 2] No such file or directory: 'inheritance_dataset_enhanced-1.csv'"
          ]
        }
      ]
    },
    {
      "cell_type": "code",
      "source": [
        "# 2. Определяем шкалы измерения для признаков\n",
        "# Я это сделал вручную: просмотрел столбцы и определил шкалы\n",
        "\n",
        "# Пример:\n",
        "# estate, debts, wills, share_* — количественные (числовые, интервальные)\n",
        "# husband, wives, father, mother, sons, daughters, brothers_m, sisters_m, grandfather, grandmother — категориальные (номинальные или порядковые)\n",
        "print(df.dtypes)  # Показываем типы данных для каждого признака"
      ],
      "metadata": {
        "id": "wQV3TUUwPAT_"
      },
      "execution_count": null,
      "outputs": []
    },
    {
      "cell_type": "code",
      "source": [
        "\n",
        "import pandas as pd\n",
        "\n",
        "# رفع الملف من جهازك إلى كولاب\n",
        "\n",
        "\n",
        "# قراءة الملف\n",
        "url = \"https://raw.githubusercontent.com/Altaieb-Mohammed/lab_2corse/master/inheritance_dataset.csv\"\n",
        "\n",
        "df = pd.read_csv(url)\n",
        "# تحويل القيم الثنائية (True/False) إلى (1/0) في الأعمدة المناسبة\n",
        "bool_cols = ['husband', 'father', 'mother', 'grandfather', 'grandmother']\n",
        "for col in bool_cols:\n",
        "    if col in df.columns:\n",
        "        df[col] = df[col].map({True: 1, False: 0})\n",
        "\n",
        "# حساب صافي التركة\n",
        "df['net_estate'] = df['estate'] - df['debts'] - df['wills']\n",
        "\n",
        "# حساب مجموع الأنصبة\n",
        "share_cols = [col for col in df.columns if col.startswith('share_')]\n",
        "df['shares_total'] = df[share_cols].sum(axis=1)\n",
        "\n",
        "# التحقق من صحة التوزيع\n",
        "df['distribution_check'] = df.apply(lambda row: 'نعم' if abs(row['net_estate'] - row['shares_total']) < 1 else 'لا', axis=1)\n",
        "\n",
        "# إضافة أعمدة فارغة أخرى\n",
        "df['notes'] = ''\n",
        "df['distributed'] = ''\n",
        "df['death_date'] = ''\n",
        "df['distribution_date'] = ''\n",
        "df['country'] = ''\n",
        "df['special_cases'] = ''\n",
        "\n",
        "# حفظ الملف الجديد\n",
        "output_filename = 'inheritance_dataset_enhanced.csv'\n",
        "df.to_csv(output_filename, index=False)\n",
        "\n",
        "# توفير رابط تحميل مباشر للملف الجديد\n",
        "files.download(output_filename)"
      ],
      "metadata": {
        "id": "15zlHDL_awHx",
        "outputId": "5a4ec4fd-23a7-45a1-cc96-e4042c419590",
        "colab": {
          "base_uri": "https://localhost:8080/",
          "height": 17
        }
      },
      "execution_count": 3,
      "outputs": [
        {
          "output_type": "display_data",
          "data": {
            "text/plain": [
              "<IPython.core.display.Javascript object>"
            ],
            "application/javascript": [
              "\n",
              "    async function download(id, filename, size) {\n",
              "      if (!google.colab.kernel.accessAllowed) {\n",
              "        return;\n",
              "      }\n",
              "      const div = document.createElement('div');\n",
              "      const label = document.createElement('label');\n",
              "      label.textContent = `Downloading \"${filename}\": `;\n",
              "      div.appendChild(label);\n",
              "      const progress = document.createElement('progress');\n",
              "      progress.max = size;\n",
              "      div.appendChild(progress);\n",
              "      document.body.appendChild(div);\n",
              "\n",
              "      const buffers = [];\n",
              "      let downloaded = 0;\n",
              "\n",
              "      const channel = await google.colab.kernel.comms.open(id);\n",
              "      // Send a message to notify the kernel that we're ready.\n",
              "      channel.send({})\n",
              "\n",
              "      for await (const message of channel.messages) {\n",
              "        // Send a message to notify the kernel that we're ready.\n",
              "        channel.send({})\n",
              "        if (message.buffers) {\n",
              "          for (const buffer of message.buffers) {\n",
              "            buffers.push(buffer);\n",
              "            downloaded += buffer.byteLength;\n",
              "            progress.value = downloaded;\n",
              "          }\n",
              "        }\n",
              "      }\n",
              "      const blob = new Blob(buffers, {type: 'application/binary'});\n",
              "      const a = document.createElement('a');\n",
              "      a.href = window.URL.createObjectURL(blob);\n",
              "      a.download = filename;\n",
              "      div.appendChild(a);\n",
              "      a.click();\n",
              "      div.remove();\n",
              "    }\n",
              "  "
            ]
          },
          "metadata": {}
        },
        {
          "output_type": "display_data",
          "data": {
            "text/plain": [
              "<IPython.core.display.Javascript object>"
            ],
            "application/javascript": [
              "download(\"download_b7038ff6-510e-424a-97ec-3de2262fa3d1\", \"inheritance_dataset_enhanced.csv\", 2394542)"
            ]
          },
          "metadata": {}
        }
      ]
    },
    {
      "cell_type": "code",
      "source": [
        "# 3. Предварительный осмотр данных\n",
        "# Я это сделал вручную: проверил на пропуски и дубликаты\n",
        "\n",
        "# Проверка на пропуски\n",
        "print(df.isnull().sum())  # Сколько пропущенных значений в каждом столбце\n",
        "\n",
        "# Проверка на дубликаты\n",
        "print('Число дубликатов:', df.duplicated().sum())\n"
      ],
      "metadata": {
        "id": "nOAnge88Q2nN",
        "outputId": "5eb932ee-eb54-4393-c84a-2ac2a93d04d7",
        "colab": {
          "base_uri": "https://localhost:8080/"
        }
      },
      "execution_count": null,
      "outputs": [
        {
          "output_type": "stream",
          "name": "stdout",
          "text": [
            "record_id          0\n",
            "estate             0\n",
            "debts              0\n",
            "wills              0\n",
            "husband            0\n",
            "wives              0\n",
            "father             0\n",
            "mother             0\n",
            "sons               0\n",
            "daughters          0\n",
            "brothers_m         0\n",
            "sisters_m          0\n",
            "grandfather        0\n",
            "grandmother        0\n",
            "share_husband      0\n",
            "share_wife         0\n",
            "share_father       0\n",
            "share_mother       0\n",
            "share_sons         0\n",
            "share_daughters    0\n",
            "dtype: int64\n",
            "Число дубликатов: 0\n"
          ]
        }
      ]
    },
    {
      "cell_type": "code",
      "source": [
        "# 4. Очистка данных\n",
        "# Я это сделал вручную: удалил дубликаты и при необходимости обработал пропуски\n",
        "\n",
        "# Удаление дубликатов\n",
        "df = df.drop_duplicates()\n",
        "\n",
        "# Заполнение пропусков (если есть)\n",
        "# Например, для числовых признаков можно заполнить средним или медианой\n",
        "df = df.fillna(df.median(numeric_only=True))\n",
        "# Для категориальных — самым частым значением\n",
        "for col in ['husband', 'wives', 'father', 'mother', 'sons', 'daughters', 'brothers_m', 'sisters_m', 'grandfather', 'grandmother']:\n",
        "    if df[col].isnull().sum() > 0:\n",
        "        df[col] = df[col].fillna(df[col].mode()[0])\n"
      ],
      "metadata": {
        "id": "xIc8W1tsRAXc"
      },
      "execution_count": null,
      "outputs": []
    },
    {
      "cell_type": "code",
      "source": [
        "# 5. Отбор признаков для моделирования\n",
        "# Я это сделал вручную: выбрал наиболее информативные признаки\n",
        "\n",
        "# Пример: выберем только estate, debts, wills, sons, daughters, share_sons, share_daughters для задачи регрессии\n",
        "selected_features = ['estate', 'debts', 'wills', 'sons', 'daughters', 'share_sons', 'share_daughters']\n",
        "df_model = df[selected_features]\n",
        "print(df_model.head())\n"
      ],
      "metadata": {
        "id": "QuoGvXVYRGL2",
        "outputId": "59972cdf-fdf4-46f9-b30b-b05a1d401459",
        "colab": {
          "base_uri": "https://localhost:8080/"
        }
      },
      "execution_count": null,
      "outputs": [
        {
          "output_type": "stream",
          "name": "stdout",
          "text": [
            "   estate  debts     wills  sons  daughters  share_sons  share_daughters\n",
            "0  170040  22540   2663.76     2          2    40232.29         20116.14\n",
            "1  181741  10376  14674.26     1          1    69640.33         34820.16\n",
            "2  158290   2848   2591.00     1          0   114638.25             0.00\n",
            "3  167814  34762   4936.79     0          1        0.00         64057.61\n",
            "4  101742  21068  12245.39     0          3        0.00         40550.29\n"
          ]
        }
      ]
    },
    {
      "cell_type": "code",
      "source": [
        "from sklearn.preprocessing import MinMaxScaler, StandardScaler\n",
        "\n",
        "# 6. Масштабирование признаков\n",
        "# Я это сделал вручную: применил нормализацию и стандартизацию\n",
        "\n",
        "# Нормализация (приведение к [0,1])\n",
        "scaler_norm = MinMaxScaler()\n",
        "df_norm = df_model.copy()\n",
        "df_norm[df_model.columns] = scaler_norm.fit_transform(df_model)\n",
        "\n",
        "print('Нормализованные данные:')\n",
        "print(df_norm.head())\n",
        "\n",
        "# Стандартизация (приведение к среднему 0 и стандартному отклонению 1)\n",
        "scaler_std = StandardScaler()\n",
        "df_std = df_model.copy()\n",
        "df_std[df_model.columns] = scaler_std.fit_transform(df_model)\n",
        "\n",
        "print('Стандартизованные данные:')\n",
        "print(df_std.head())\n"
      ],
      "metadata": {
        "id": "L23odo7TRPkp",
        "outputId": "24c7b6d3-31ab-4f30-f693-8c60a570f0f5",
        "colab": {
          "base_uri": "https://localhost:8080/"
        }
      },
      "execution_count": null,
      "outputs": [
        {
          "output_type": "stream",
          "name": "stdout",
          "text": [
            "Нормализованные данные:\n",
            "     estate     debts     wills      sons  daughters  share_sons  \\\n",
            "0  0.800273  0.378182  0.040552  0.666667   0.666667    0.223133   \n",
            "1  0.878285  0.174091  0.223435  0.333333   0.333333    0.386233   \n",
            "2  0.721935  0.047784  0.039444  0.333333   0.000000    0.635797   \n",
            "3  0.785432  0.583245  0.075163  0.000000   0.333333    0.000000   \n",
            "4  0.344923  0.353484  0.186451  0.000000   1.000000    0.000000   \n",
            "\n",
            "   share_daughters  \n",
            "0         0.156367  \n",
            "1         0.270665  \n",
            "2         0.000000  \n",
            "3         0.497934  \n",
            "4         0.315206  \n",
            "Стандартизованные данные:\n",
            "     estate     debts     wills      sons  daughters  share_sons  \\\n",
            "0  1.048158  0.277475 -1.188757  0.435001   0.460770    0.206203   \n",
            "1  1.319966 -0.639720 -0.237050 -0.462278  -0.434451    1.227141   \n",
            "2  0.775211 -1.207349 -1.194522 -0.462278  -1.329672    2.789301   \n",
            "3  0.996449  1.199043 -1.008643 -1.359556  -0.434451   -1.190513   \n",
            "4 -0.538371  0.166482 -0.429513 -1.359556   1.355991   -1.190513   \n",
            "\n",
            "   share_daughters  \n",
            "0        -0.058202  \n",
            "1         0.620585  \n",
            "2        -0.986830  \n",
            "3         1.970283  \n",
            "4         0.885107  \n"
          ]
        }
      ]
    },
    {
      "cell_type": "code",
      "source": [
        "# 7. Выводы\n",
        "# Я это сделал вручную: написал основные выводы по результатам анализа\n",
        "\n",
        "print(\"Выводы:\")\n",
        "print(\"- Признаки успешно очищены и приведены к единому масштабу.\")\n",
        "print(\"- Для моделирования выбраны наиболее информативные признаки.\")\n",
        "print(\"- Пропуски и дубликаты обработаны.\")\n"
      ],
      "metadata": {
        "id": "5W7egeEwRWnF",
        "outputId": "8dccb6b2-cd27-4838-ad63-d083ce720e73",
        "colab": {
          "base_uri": "https://localhost:8080/"
        }
      },
      "execution_count": null,
      "outputs": [
        {
          "output_type": "stream",
          "name": "stdout",
          "text": [
            "Выводы:\n",
            "- Признаки успешно очищены и приведены к единому масштабу.\n",
            "- Для моделирования выбраны наиболее информативные признаки.\n",
            "- Пропуски и дубликаты обработаны.\n"
          ]
        }
      ]
    }
  ]
}