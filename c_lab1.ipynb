{
  "nbformat": 4,
  "nbformat_minor": 0,
  "metadata": {
    "colab": {
      "provenance": [],
      "authorship_tag": "ABX9TyM3YCOHgTLP/seTg3cdGBAI",
      "include_colab_link": true
    },
    "kernelspec": {
      "name": "python3",
      "display_name": "Python 3"
    },
    "language_info": {
      "name": "python"
    }
  },
  "cells": [
    {
      "cell_type": "markdown",
      "metadata": {
        "id": "view-in-github",
        "colab_type": "text"
      },
      "source": [
        "<a href=\"https://colab.research.google.com/github/Altaieb-Mohammed/lab_2corse/blob/master/c_lab1.ipynb\" target=\"_parent\"><img src=\"https://colab.research.google.com/assets/colab-badge.svg\" alt=\"Open In Colab\"/></a>"
      ]
    },
    {
      "cell_type": "code",
      "source": [
        "import pandas as pd\n",
        "\n",
        "# Загрузка данных из файла CSV\n",
        "# Я это сделал вручную: выбрал файл и загрузил его\n",
        "url = \"https://raw.githubusercontent.com/Altaieb-Mohammed/lab_2corse/master/inheritance_dataset.csv\"\n",
        "\n",
        "df = pd.read_csv(url)"
      ],
      "metadata": {
        "id": "9gmZSB-BOtla"
      },
      "execution_count": null,
      "outputs": []
    },
    {
      "cell_type": "code",
      "source": [
        "\n",
        "import pandas as pd\n",
        "from google.colab import files\n",
        "\n",
        "\n",
        "url = \"https://raw.githubusercontent.com/Altaieb-Mohammed/lab_2corse/master/inheritance_dataset_enhanced.csv\"\n",
        "\n",
        "df = pd.read_csv(url)\n",
        "# Fill 'distributed'\n",
        "df['distributed'] = df['distribution_check'].apply(lambda x: \"Yes\" if x == \"نعم\" else \"No\")\n",
        "\n",
        "# Fill 'notes'\n",
        "df['notes'] = df['distribution_check'].apply(lambda x: \"\" if x == \"نعم\" else \"Check calculations, error in distribution\")\n",
        "\n",
        "# Fill 'death_date' and 'distribution_date'\n",
        "df['death_date'] = \"Not available\"\n",
        "df['distribution_date'] = \"Not available\"\n",
        "\n",
        "# Fill 'country'\n",
        "df['country'] = \"Not specified\"\n",
        "\n",
        "# Fill 'special_cases'\n",
        "df['special_cases'] = df['distribution_check'].apply(\n",
        "    lambda x: \"\" if x == \"نعم\" else \"Special case: check for Awl, Radd, or error\"\n",
        ")\n",
        "\n",
        "# Save the updated file\n",
        "output_filename = 'inheritance_dataset_filled_en.csv'\n",
        "df.to_csv(output_filename, index=False)\n",
        "\n",
        "# Download the file\n",
        "files.download(output_filename)"
      ],
      "metadata": {
        "id": "Ti5cHnjOdyl-",
        "outputId": "0f6ba073-2c3c-4c1f-f4b7-ae2ed7af384f",
        "colab": {
          "base_uri": "https://localhost:8080/",
          "height": 17
        }
      },
      "execution_count": 6,
      "outputs": [
        {
          "output_type": "display_data",
          "data": {
            "text/plain": [
              "<IPython.core.display.Javascript object>"
            ],
            "application/javascript": [
              "\n",
              "    async function download(id, filename, size) {\n",
              "      if (!google.colab.kernel.accessAllowed) {\n",
              "        return;\n",
              "      }\n",
              "      const div = document.createElement('div');\n",
              "      const label = document.createElement('label');\n",
              "      label.textContent = `Downloading \"${filename}\": `;\n",
              "      div.appendChild(label);\n",
              "      const progress = document.createElement('progress');\n",
              "      progress.max = size;\n",
              "      div.appendChild(progress);\n",
              "      document.body.appendChild(div);\n",
              "\n",
              "      const buffers = [];\n",
              "      let downloaded = 0;\n",
              "\n",
              "      const channel = await google.colab.kernel.comms.open(id);\n",
              "      // Send a message to notify the kernel that we're ready.\n",
              "      channel.send({})\n",
              "\n",
              "      for await (const message of channel.messages) {\n",
              "        // Send a message to notify the kernel that we're ready.\n",
              "        channel.send({})\n",
              "        if (message.buffers) {\n",
              "          for (const buffer of message.buffers) {\n",
              "            buffers.push(buffer);\n",
              "            downloaded += buffer.byteLength;\n",
              "            progress.value = downloaded;\n",
              "          }\n",
              "        }\n",
              "      }\n",
              "      const blob = new Blob(buffers, {type: 'application/binary'});\n",
              "      const a = document.createElement('a');\n",
              "      a.href = window.URL.createObjectURL(blob);\n",
              "      a.download = filename;\n",
              "      div.appendChild(a);\n",
              "      a.click();\n",
              "      div.remove();\n",
              "    }\n",
              "  "
            ]
          },
          "metadata": {}
        },
        {
          "output_type": "display_data",
          "data": {
            "text/plain": [
              "<IPython.core.display.Javascript object>"
            ],
            "application/javascript": [
              "download(\"download_a0ddb757-759c-4a79-b138-120b7edc8a5c\", \"inheritance_dataset_filled_en.csv\", 3487935)"
            ]
          },
          "metadata": {}
        }
      ]
    },
    {
      "cell_type": "code",
      "source": [
        "\n",
        "import pandas as pd\n",
        "from google.colab import files\n",
        "url = \"https://raw.githubusercontent.com/Altaieb-Mohammed/lab_2corse/master/inheritance_dataset_enhanced.csv\"\n",
        "\n",
        "df = pd.read_csv(url)# 3. تحويل كل القيم الثنائية إلى 0 أو 1\n",
        "binary_map = {'Yes': 1, 'No': 0, 'نعم': 1, 'لا': 0}\n",
        "# الأعمدة الثنائية المنطقية\n",
        "binary_cols = [\n",
        "    'husband', 'wives', 'father', 'mother', 'grandfather', 'grandmother',\n",
        "    'distributed', 'distribution_check'\n",
        "]\n",
        "for col in binary_cols:\n",
        "    if col in df.columns:\n",
        "        df[col] = df[col].replace(binary_map).fillna(df[col])\n",
        "\n",
        "# الأعمدة التي قد تحتوي أرقامًا (مثلاً sons, daughters, ...): إذا كانت >0 تصبح 1، وإلا 0\n",
        "count_cols = [\n",
        "    'sons', 'daughters', 'brothers_m', 'sisters_m'\n",
        "]\n",
        "for col in count_cols:\n",
        "    if col in df.columns:\n",
        "        df[col] = df[col].apply(lambda x: 1 if x > 0 else 0)\n",
        "\n",
        "# 4. توحيد القيم الثنائية في جميع الأعمدة النصية التي تحتوي Yes/No أو نعم/لا\n",
        "for col in df.columns:\n",
        "    if df[col].dtype == object:\n",
        "        df[col] = df[col].replace(binary_map)\n",
        "\n",
        "# 5. إعادة توزيع الأنصبة للحالات الخاطئة\n",
        "share_cols = [c for c in df.columns if c.startswith('share_')]\n",
        "df_corrected = df[df['distribution_check'] == 0].copy()\n",
        "for idx, row in df_corrected.iterrows():\n",
        "    total_shares = sum([row[c] for c in share_cols])\n",
        "    net_estate = row['net_estate']\n",
        "    if total_shares > 0:\n",
        "        for c in share_cols:\n",
        "            old_share = row[c]\n",
        "            new_share = (old_share / total_shares) * net_estate if total_shares != 0 else 0\n",
        "            df_corrected.at[idx, c] = new_share\n",
        "        # إعادة حساب مجموع الأنصبة بعد التصحيح\n",
        "        df_corrected.at[idx, 'shares_total'] = df_corrected.loc[idx, share_cols].sum()\n",
        "        df_corrected.at[idx, 'distribution_check'] = 1\n",
        "        df_corrected.at[idx, 'notes'] = ''\n",
        "        df_corrected.at[idx, 'special_cases'] = ''\n",
        "        df_corrected.at[idx, 'distributed'] = 1\n",
        "\n",
        "# تحديث البيانات الأصلية بالحالات المصححة\n",
        "df.update(df_corrected)\n",
        "\n",
        "# 6. حفظ الملف الكامل بعد التحويلات\n",
        "file_binary = 'inheritance_dataset_binary.csv'\n",
        "df.to_csv(file_binary, index=False)\n",
        "files.download(file_binary)\n",
        "\n",
        "# 7. حفظ ملف خاص بالحالات التي تم تصحيحها فقط\n",
        "file_corrected = 'inheritance_dataset_corrected.csv'\n",
        "df_corrected.to_csv(file_corrected, index=False)\n",
        "files.download(file_corrected)"
      ],
      "metadata": {
        "id": "ty4FJU61hn66"
      },
      "execution_count": null,
      "outputs": []
    },
    {
      "cell_type": "code",
      "source": [
        "\n",
        "import pandas as pd\n",
        "from google.colab import files\n",
        "url = \"https://raw.githubusercontent.com/Altaieb-Mohammed/lab_2corse/master/inheritance_dataset_enhanced.csv\"\n",
        "\n",
        "df = pd.read_csv(url)\n",
        "# 3. تحويل كل القيم الثنائية إلى 0 أو 1\n",
        "binary_map = {'Yes': 1, 'No': 0, 'نعم': 1, 'لا': 0}\n",
        "binary_cols = [\n",
        "    'husband', 'wives', 'father', 'mother', 'grandfather', 'grandmother',\n",
        "    'distributed', 'distribution_check'\n",
        "]\n",
        "for col in binary_cols:\n",
        "    if col in df.columns:\n",
        "        df[col] = df[col].replace(binary_map).astype('Int64')  # Int64 يسمح بالقيم الفارغة أيضاً\n",
        "\n",
        "# الأعمدة التي قد تحتوي أرقامًا (مثلاً sons, daughters, ...): إذا كانت >0 تصبح 1، وإلا 0\n",
        "count_cols = [\n",
        "    'sons', 'daughters', 'brothers_m', 'sisters_m'\n",
        "]\n",
        "for col in count_cols:\n",
        "    if col in df.columns:\n",
        "        df[col] = df[col].apply(lambda x: 1 if x > 0 else 0).astype('Int64')\n",
        "\n",
        "# 4. توحيد القيم الثنائية في جميع الأعمدة النصية التي تحتوي Yes/No أو نعم/لا\n",
        "for col in df.columns:\n",
        "    if df[col].dtype == object:\n",
        "        df[col] = df[col].replace(binary_map)\n",
        "\n",
        "# 5. معالجة الأعمدة النصية التي قد تسبب تحذيرات عند وضع \"\" في أعمدة رقمية\n",
        "# نجبر الأعمدة النصية على أن تكون object (نصية صريحة)\n",
        "text_cols = ['notes', 'special_cases']\n",
        "for col in text_cols:\n",
        "    if col in df.columns:\n",
        "        df[col] = df[col].astype(str)\n",
        "\n",
        "# 6. إعادة توزيع الأنصبة للحالات الخاطئة\n",
        "share_cols = [c for c in df.columns if c.startswith('share_')]\n",
        "df_corrected = df[df['distribution_check'] == 0].copy()\n",
        "for idx, row in df_corrected.iterrows():\n",
        "    total_shares = sum([row[c] for c in share_cols])\n",
        "    net_estate = row['net_estate']\n",
        "    if total_shares > 0:\n",
        "        for c in share_cols:\n",
        "            old_share = row[c]\n",
        "            new_share = (old_share / total_shares) * net_estate if total_shares != 0 else 0\n",
        "            df_corrected.at[idx, c] = new_share\n",
        "        # إعادة حساب مجموع الأنصبة بعد التصحيح\n",
        "        df_corrected.at[idx, 'shares_total'] = df_corrected.loc[idx, share_cols].sum()\n",
        "        df_corrected.at[idx, 'distribution_check'] = 1\n",
        "        df_corrected.at[idx, 'notes'] = ''\n",
        "        df_corrected.at[idx, 'special_cases'] = ''\n",
        "        df_corrected.at[idx, 'distributed'] = 1\n",
        "\n",
        "# تحديث البيانات الأصلية بالحالات المصححة\n",
        "df.update(df_corrected)\n",
        "\n",
        "# 7. حفظ الملف الكامل بعد التحويلات\n",
        "file_binary = 'inheritance_dataset_binary.csv'\n",
        "df.to_csv(file_binary, index=False)\n",
        "files.download(file_binary)\n",
        "\n",
        "# 8. حفظ ملف خاص بالحالات التي تم تصحيحها فقط\n",
        "file_corrected = 'inheritance_dataset_corrected.csv'\n",
        "df_corrected.to_csv(file_corrected, index=False)\n",
        "files.download(file_corrected)"
      ],
      "metadata": {
        "id": "_raA_V3Cie--",
        "outputId": "ae95a86b-2328-4765-e483-6add3a7e224e",
        "colab": {
          "base_uri": "https://localhost:8080/",
          "height": 72
        }
      },
      "execution_count": 8,
      "outputs": [
        {
          "output_type": "stream",
          "name": "stderr",
          "text": [
            "<ipython-input-8-26bf5ef4076a>:14: FutureWarning: Downcasting behavior in `replace` is deprecated and will be removed in a future version. To retain the old behavior, explicitly call `result.infer_objects(copy=False)`. To opt-in to the future behavior, set `pd.set_option('future.no_silent_downcasting', True)`\n",
            "  df[col] = df[col].replace(binary_map).astype('Int64')  # Int64 يسمح بالقيم الفارغة أيضاً\n"
          ]
        },
        {
          "output_type": "display_data",
          "data": {
            "text/plain": [
              "<IPython.core.display.Javascript object>"
            ],
            "application/javascript": [
              "\n",
              "    async function download(id, filename, size) {\n",
              "      if (!google.colab.kernel.accessAllowed) {\n",
              "        return;\n",
              "      }\n",
              "      const div = document.createElement('div');\n",
              "      const label = document.createElement('label');\n",
              "      label.textContent = `Downloading \"${filename}\": `;\n",
              "      div.appendChild(label);\n",
              "      const progress = document.createElement('progress');\n",
              "      progress.max = size;\n",
              "      div.appendChild(progress);\n",
              "      document.body.appendChild(div);\n",
              "\n",
              "      const buffers = [];\n",
              "      let downloaded = 0;\n",
              "\n",
              "      const channel = await google.colab.kernel.comms.open(id);\n",
              "      // Send a message to notify the kernel that we're ready.\n",
              "      channel.send({})\n",
              "\n",
              "      for await (const message of channel.messages) {\n",
              "        // Send a message to notify the kernel that we're ready.\n",
              "        channel.send({})\n",
              "        if (message.buffers) {\n",
              "          for (const buffer of message.buffers) {\n",
              "            buffers.push(buffer);\n",
              "            downloaded += buffer.byteLength;\n",
              "            progress.value = downloaded;\n",
              "          }\n",
              "        }\n",
              "      }\n",
              "      const blob = new Blob(buffers, {type: 'application/binary'});\n",
              "      const a = document.createElement('a');\n",
              "      a.href = window.URL.createObjectURL(blob);\n",
              "      a.download = filename;\n",
              "      div.appendChild(a);\n",
              "      a.click();\n",
              "      div.remove();\n",
              "    }\n",
              "  "
            ]
          },
          "metadata": {}
        },
        {
          "output_type": "display_data",
          "data": {
            "text/plain": [
              "<IPython.core.display.Javascript object>"
            ],
            "application/javascript": [
              "download(\"download_7c14a6d7-683e-4d00-8ebd-a3df0dd4de5e\", \"inheritance_dataset_binary.csv\", 2427784)"
            ]
          },
          "metadata": {}
        },
        {
          "output_type": "display_data",
          "data": {
            "text/plain": [
              "<IPython.core.display.Javascript object>"
            ],
            "application/javascript": [
              "\n",
              "    async function download(id, filename, size) {\n",
              "      if (!google.colab.kernel.accessAllowed) {\n",
              "        return;\n",
              "      }\n",
              "      const div = document.createElement('div');\n",
              "      const label = document.createElement('label');\n",
              "      label.textContent = `Downloading \"${filename}\": `;\n",
              "      div.appendChild(label);\n",
              "      const progress = document.createElement('progress');\n",
              "      progress.max = size;\n",
              "      div.appendChild(progress);\n",
              "      document.body.appendChild(div);\n",
              "\n",
              "      const buffers = [];\n",
              "      let downloaded = 0;\n",
              "\n",
              "      const channel = await google.colab.kernel.comms.open(id);\n",
              "      // Send a message to notify the kernel that we're ready.\n",
              "      channel.send({})\n",
              "\n",
              "      for await (const message of channel.messages) {\n",
              "        // Send a message to notify the kernel that we're ready.\n",
              "        channel.send({})\n",
              "        if (message.buffers) {\n",
              "          for (const buffer of message.buffers) {\n",
              "            buffers.push(buffer);\n",
              "            downloaded += buffer.byteLength;\n",
              "            progress.value = downloaded;\n",
              "          }\n",
              "        }\n",
              "      }\n",
              "      const blob = new Blob(buffers, {type: 'application/binary'});\n",
              "      const a = document.createElement('a');\n",
              "      a.href = window.URL.createObjectURL(blob);\n",
              "      a.download = filename;\n",
              "      div.appendChild(a);\n",
              "      a.click();\n",
              "      div.remove();\n",
              "    }\n",
              "  "
            ]
          },
          "metadata": {}
        },
        {
          "output_type": "display_data",
          "data": {
            "text/plain": [
              "<IPython.core.display.Javascript object>"
            ],
            "application/javascript": [
              "download(\"download_f6fb487d-648e-47f6-8526-ce7f657bef50\", \"inheritance_dataset_corrected.csv\", 420554)"
            ]
          },
          "metadata": {}
        }
      ]
    },
    {
      "cell_type": "code",
      "source": [
        "# 2. Определяем шкалы измерения для признаков\n",
        "# Я это сделал вручную: просмотрел столбцы и определил шкалы\n",
        "\n",
        "# Пример:\n",
        "# estate, debts, wills, share_* — количественные (числовые, интервальные)\n",
        "# husband, wives, father, mother, sons, daughters, brothers_m, sisters_m, grandfather, grandmother — категориальные (номинальные или порядковые)\n",
        "print(df.dtypes)  # Показываем типы данных для каждого признака"
      ],
      "metadata": {
        "id": "wQV3TUUwPAT_"
      },
      "execution_count": null,
      "outputs": []
    },
    {
      "cell_type": "code",
      "source": [
        "\n",
        "import pandas as pd\n",
        "\n",
        "# رفع الملف من جهازك إلى كولاب\n",
        "\n",
        "\n",
        "# قراءة الملف\n",
        "url = \"https://raw.githubusercontent.com/Altaieb-Mohammed/lab_2corse/master/inheritance_dataset.csv\"\n",
        "\n",
        "df = pd.read_csv(url)\n",
        "# تحويل القيم الثنائية (True/False) إلى (1/0) في الأعمدة المناسبة\n",
        "bool_cols = ['husband', 'father', 'mother', 'grandfather', 'grandmother']\n",
        "for col in bool_cols:\n",
        "    if col in df.columns:\n",
        "        df[col] = df[col].map({True: 1, False: 0})\n",
        "\n",
        "# حساب صافي التركة\n",
        "df['net_estate'] = df['estate'] - df['debts'] - df['wills']\n",
        "\n",
        "# حساب مجموع الأنصبة\n",
        "share_cols = [col for col in df.columns if col.startswith('share_')]\n",
        "df['shares_total'] = df[share_cols].sum(axis=1)\n",
        "\n",
        "# التحقق من صحة التوزيع\n",
        "df['distribution_check'] = df.apply(lambda row: 'نعم' if abs(row['net_estate'] - row['shares_total']) < 1 else 'لا', axis=1)\n",
        "\n",
        "# إضافة أعمدة فارغة أخرى\n",
        "df['notes'] = ''\n",
        "df['distributed'] = ''\n",
        "df['death_date'] = ''\n",
        "df['distribution_date'] = ''\n",
        "df['country'] = ''\n",
        "df['special_cases'] = ''\n",
        "\n",
        "# حفظ الملف الجديد\n",
        "output_filename = 'inheritance_dataset_enhanced.csv'\n",
        "df.to_csv(output_filename, index=False)\n",
        "\n",
        "# توفير رابط تحميل مباشر للملف الجديد\n",
        "files.download(output_filename)"
      ],
      "metadata": {
        "id": "15zlHDL_awHx",
        "outputId": "5a4ec4fd-23a7-45a1-cc96-e4042c419590",
        "colab": {
          "base_uri": "https://localhost:8080/",
          "height": 17
        }
      },
      "execution_count": null,
      "outputs": [
        {
          "output_type": "display_data",
          "data": {
            "text/plain": [
              "<IPython.core.display.Javascript object>"
            ],
            "application/javascript": [
              "\n",
              "    async function download(id, filename, size) {\n",
              "      if (!google.colab.kernel.accessAllowed) {\n",
              "        return;\n",
              "      }\n",
              "      const div = document.createElement('div');\n",
              "      const label = document.createElement('label');\n",
              "      label.textContent = `Downloading \"${filename}\": `;\n",
              "      div.appendChild(label);\n",
              "      const progress = document.createElement('progress');\n",
              "      progress.max = size;\n",
              "      div.appendChild(progress);\n",
              "      document.body.appendChild(div);\n",
              "\n",
              "      const buffers = [];\n",
              "      let downloaded = 0;\n",
              "\n",
              "      const channel = await google.colab.kernel.comms.open(id);\n",
              "      // Send a message to notify the kernel that we're ready.\n",
              "      channel.send({})\n",
              "\n",
              "      for await (const message of channel.messages) {\n",
              "        // Send a message to notify the kernel that we're ready.\n",
              "        channel.send({})\n",
              "        if (message.buffers) {\n",
              "          for (const buffer of message.buffers) {\n",
              "            buffers.push(buffer);\n",
              "            downloaded += buffer.byteLength;\n",
              "            progress.value = downloaded;\n",
              "          }\n",
              "        }\n",
              "      }\n",
              "      const blob = new Blob(buffers, {type: 'application/binary'});\n",
              "      const a = document.createElement('a');\n",
              "      a.href = window.URL.createObjectURL(blob);\n",
              "      a.download = filename;\n",
              "      div.appendChild(a);\n",
              "      a.click();\n",
              "      div.remove();\n",
              "    }\n",
              "  "
            ]
          },
          "metadata": {}
        },
        {
          "output_type": "display_data",
          "data": {
            "text/plain": [
              "<IPython.core.display.Javascript object>"
            ],
            "application/javascript": [
              "download(\"download_b7038ff6-510e-424a-97ec-3de2262fa3d1\", \"inheritance_dataset_enhanced.csv\", 2394542)"
            ]
          },
          "metadata": {}
        }
      ]
    },
    {
      "cell_type": "code",
      "source": [
        "# 3. Предварительный осмотр данных\n",
        "# Я это сделал вручную: проверил на пропуски и дубликаты\n",
        "\n",
        "# Проверка на пропуски\n",
        "print(df.isnull().sum())  # Сколько пропущенных значений в каждом столбце\n",
        "\n",
        "# Проверка на дубликаты\n",
        "print('Число дубликатов:', df.duplicated().sum())\n"
      ],
      "metadata": {
        "id": "nOAnge88Q2nN",
        "outputId": "5eb932ee-eb54-4393-c84a-2ac2a93d04d7",
        "colab": {
          "base_uri": "https://localhost:8080/"
        }
      },
      "execution_count": null,
      "outputs": [
        {
          "output_type": "stream",
          "name": "stdout",
          "text": [
            "record_id          0\n",
            "estate             0\n",
            "debts              0\n",
            "wills              0\n",
            "husband            0\n",
            "wives              0\n",
            "father             0\n",
            "mother             0\n",
            "sons               0\n",
            "daughters          0\n",
            "brothers_m         0\n",
            "sisters_m          0\n",
            "grandfather        0\n",
            "grandmother        0\n",
            "share_husband      0\n",
            "share_wife         0\n",
            "share_father       0\n",
            "share_mother       0\n",
            "share_sons         0\n",
            "share_daughters    0\n",
            "dtype: int64\n",
            "Число дубликатов: 0\n"
          ]
        }
      ]
    },
    {
      "cell_type": "code",
      "source": [
        "# 4. Очистка данных\n",
        "# Я это сделал вручную: удалил дубликаты и при необходимости обработал пропуски\n",
        "\n",
        "# Удаление дубликатов\n",
        "df = df.drop_duplicates()\n",
        "\n",
        "# Заполнение пропусков (если есть)\n",
        "# Например, для числовых признаков можно заполнить средним или медианой\n",
        "df = df.fillna(df.median(numeric_only=True))\n",
        "# Для категориальных — самым частым значением\n",
        "for col in ['husband', 'wives', 'father', 'mother', 'sons', 'daughters', 'brothers_m', 'sisters_m', 'grandfather', 'grandmother']:\n",
        "    if df[col].isnull().sum() > 0:\n",
        "        df[col] = df[col].fillna(df[col].mode()[0])\n"
      ],
      "metadata": {
        "id": "xIc8W1tsRAXc"
      },
      "execution_count": null,
      "outputs": []
    },
    {
      "cell_type": "code",
      "source": [
        "# 5. Отбор признаков для моделирования\n",
        "# Я это сделал вручную: выбрал наиболее информативные признаки\n",
        "\n",
        "# Пример: выберем только estate, debts, wills, sons, daughters, share_sons, share_daughters для задачи регрессии\n",
        "selected_features = ['estate', 'debts', 'wills', 'sons', 'daughters', 'share_sons', 'share_daughters']\n",
        "df_model = df[selected_features]\n",
        "print(df_model.head())\n"
      ],
      "metadata": {
        "id": "QuoGvXVYRGL2",
        "outputId": "59972cdf-fdf4-46f9-b30b-b05a1d401459",
        "colab": {
          "base_uri": "https://localhost:8080/"
        }
      },
      "execution_count": null,
      "outputs": [
        {
          "output_type": "stream",
          "name": "stdout",
          "text": [
            "   estate  debts     wills  sons  daughters  share_sons  share_daughters\n",
            "0  170040  22540   2663.76     2          2    40232.29         20116.14\n",
            "1  181741  10376  14674.26     1          1    69640.33         34820.16\n",
            "2  158290   2848   2591.00     1          0   114638.25             0.00\n",
            "3  167814  34762   4936.79     0          1        0.00         64057.61\n",
            "4  101742  21068  12245.39     0          3        0.00         40550.29\n"
          ]
        }
      ]
    },
    {
      "cell_type": "code",
      "source": [
        "from sklearn.preprocessing import MinMaxScaler, StandardScaler\n",
        "\n",
        "# 6. Масштабирование признаков\n",
        "# Я это сделал вручную: применил нормализацию и стандартизацию\n",
        "\n",
        "# Нормализация (приведение к [0,1])\n",
        "scaler_norm = MinMaxScaler()\n",
        "df_norm = df_model.copy()\n",
        "df_norm[df_model.columns] = scaler_norm.fit_transform(df_model)\n",
        "\n",
        "print('Нормализованные данные:')\n",
        "print(df_norm.head())\n",
        "\n",
        "# Стандартизация (приведение к среднему 0 и стандартному отклонению 1)\n",
        "scaler_std = StandardScaler()\n",
        "df_std = df_model.copy()\n",
        "df_std[df_model.columns] = scaler_std.fit_transform(df_model)\n",
        "\n",
        "print('Стандартизованные данные:')\n",
        "print(df_std.head())\n"
      ],
      "metadata": {
        "id": "L23odo7TRPkp",
        "outputId": "24c7b6d3-31ab-4f30-f693-8c60a570f0f5",
        "colab": {
          "base_uri": "https://localhost:8080/"
        }
      },
      "execution_count": null,
      "outputs": [
        {
          "output_type": "stream",
          "name": "stdout",
          "text": [
            "Нормализованные данные:\n",
            "     estate     debts     wills      sons  daughters  share_sons  \\\n",
            "0  0.800273  0.378182  0.040552  0.666667   0.666667    0.223133   \n",
            "1  0.878285  0.174091  0.223435  0.333333   0.333333    0.386233   \n",
            "2  0.721935  0.047784  0.039444  0.333333   0.000000    0.635797   \n",
            "3  0.785432  0.583245  0.075163  0.000000   0.333333    0.000000   \n",
            "4  0.344923  0.353484  0.186451  0.000000   1.000000    0.000000   \n",
            "\n",
            "   share_daughters  \n",
            "0         0.156367  \n",
            "1         0.270665  \n",
            "2         0.000000  \n",
            "3         0.497934  \n",
            "4         0.315206  \n",
            "Стандартизованные данные:\n",
            "     estate     debts     wills      sons  daughters  share_sons  \\\n",
            "0  1.048158  0.277475 -1.188757  0.435001   0.460770    0.206203   \n",
            "1  1.319966 -0.639720 -0.237050 -0.462278  -0.434451    1.227141   \n",
            "2  0.775211 -1.207349 -1.194522 -0.462278  -1.329672    2.789301   \n",
            "3  0.996449  1.199043 -1.008643 -1.359556  -0.434451   -1.190513   \n",
            "4 -0.538371  0.166482 -0.429513 -1.359556   1.355991   -1.190513   \n",
            "\n",
            "   share_daughters  \n",
            "0        -0.058202  \n",
            "1         0.620585  \n",
            "2        -0.986830  \n",
            "3         1.970283  \n",
            "4         0.885107  \n"
          ]
        }
      ]
    },
    {
      "cell_type": "code",
      "source": [
        "# 7. Выводы\n",
        "# Я это сделал вручную: написал основные выводы по результатам анализа\n",
        "\n",
        "print(\"Выводы:\")\n",
        "print(\"- Признаки успешно очищены и приведены к единому масштабу.\")\n",
        "print(\"- Для моделирования выбраны наиболее информативные признаки.\")\n",
        "print(\"- Пропуски и дубликаты обработаны.\")\n"
      ],
      "metadata": {
        "id": "5W7egeEwRWnF",
        "outputId": "8dccb6b2-cd27-4838-ad63-d083ce720e73",
        "colab": {
          "base_uri": "https://localhost:8080/"
        }
      },
      "execution_count": null,
      "outputs": [
        {
          "output_type": "stream",
          "name": "stdout",
          "text": [
            "Выводы:\n",
            "- Признаки успешно очищены и приведены к единому масштабу.\n",
            "- Для моделирования выбраны наиболее информативные признаки.\n",
            "- Пропуски и дубликаты обработаны.\n"
          ]
        }
      ]
    }
  ]
}