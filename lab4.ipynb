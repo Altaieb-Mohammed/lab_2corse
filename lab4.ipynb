{
  "nbformat": 4,
  "nbformat_minor": 0,
  "metadata": {
    "colab": {
      "provenance": [],
      "authorship_tag": "ABX9TyOniTJe/8rVm7/oxrjYlXe7",
      "include_colab_link": true
    },
    "kernelspec": {
      "name": "python3",
      "display_name": "Python 3"
    },
    "language_info": {
      "name": "python"
    }
  },
  "cells": [
    {
      "cell_type": "markdown",
      "metadata": {
        "id": "view-in-github",
        "colab_type": "text"
      },
      "source": [
        "<a href=\"https://colab.research.google.com/github/Altaieb-Mohammed/lab_2corse/blob/master/lab4.ipynb\" target=\"_parent\"><img src=\"https://colab.research.google.com/assets/colab-badge.svg\" alt=\"Open In Colab\"/></a>"
      ]
    },
    {
      "cell_type": "code",
      "source": [
        "#---------------------------------------------------------- Лабораторная работа №4:\n",
        "import pandas as pd\n",
        "import matplotlib.pyplot as plt\n",
        "import seaborn as sns\n",
        "from sklearn.model_selection import train_test_split\n",
        "from sklearn.preprocessing import StandardScaler, MinMaxScaler\n",
        "from sklearn.feature_selection import SelectKBest, f_classif, chi2\n",
        "from sklearn.ensemble import RandomForestRegressor\n",
        "from sklearn.metrics import r2_score\n",
        "import numpy as np\n",
        "import warnings\n",
        "warnings.filterwarnings('ignore')"
      ],
      "metadata": {
        "id": "EtukCb-bAJc2"
      },
      "execution_count": null,
      "outputs": []
    },
    {
      "cell_type": "code",
      "source": [
        "def load_data(url):\n",
        "    try:\n",
        "        df = pd.read_csv(url)\n",
        "        print(\"Данные успешно загружены из URL.\")\n",
        "    except Exception as e:\n",
        "        print(f\"Ошибка загрузки данных: {e}\")\n",
        "        from google.colab import files\n",
        "        uploaded = files.upload()\n",
        "        df = pd.read_csv(next(iter(uploaded)))\n",
        "        print(\"Данные успешно загружены из локального файла.\")\n",
        "    return df\n",
        "\n",
        "url = \"https://raw.githubusercontent.com/Altaieb-Mohammed/lab_2corse/master/inheritance_combined.csv\"\n",
        "df = load_data(url)\n"
      ],
      "metadata": {
        "id": "PBfo8QxcAJA-"
      },
      "execution_count": null,
      "outputs": []
    },
    {
      "cell_type": "code",
      "source": [
        "#Выводим размер набора данных (число строк и столбцов).\n",
        "\n",
        "                                                  #Показываем первые несколько строк для ознакомления с форматом и содержанием\n",
        "print(f\"Размер данных: {df.shape}\")\n",
        "print(\"Пример данных:\")\n",
        "print(df.head())\n"
      ],
      "metadata": {
        "id": "SQzhKHE3AW_u"
      },
      "execution_count": null,
      "outputs": []
    },
    {
      "cell_type": "code",
      "source": [
        "#Выбираем только нужные числовые признаки для анализа.\n",
        "\n",
        "#Заполняем пропущенные значения медианой каждого признака, чтобы избежать проблем с обучением моделей.\n",
        "feature_columns = [\n",
        "    'debts', 'bequests', 'wife', 'husband', 'sons', 'daughters',\n",
        "    'father', 'mother', 'brothers', 'sisters'\n",
        "]\n",
        "\n",
        "df_selected = df[feature_columns].copy()\n",
        "df_selected.fillna(df_selected.median(), inplace=True)\n"
      ],
      "metadata": {
        "id": "MLCSLsNqAn8-"
      },
      "execution_count": null,
      "outputs": []
    },
    {
      "cell_type": "code",
      "source": [
        "#Создаём целевой признак high_debts:\n",
        "\n",
        "#1 - если значение debts выше или равно медиане,\n",
        "\n",
        "               # 0 - иначе.\n",
        "\n",
        "                         #Это превращает задачу в бинарную классификацию.\n",
        "\n",
        "median_debts = df_selected['debts'].median()\n",
        "df_selected['high_debts'] = (df_selected['debts'] >= median_debts).astype(int)\n"
      ],
      "metadata": {
        "id": "kVFjSykpBAuW"
      },
      "execution_count": null,
      "outputs": []
    },
    {
      "cell_type": "code",
      "source": [
        "#Отделяем признаки X от целевого признака y.\n",
        "\n",
        "#Убираем из признаков исходный debts, так как он напрямую связан с таргетом.\n",
        "\n",
        "\n",
        "\n",
        "X = df_selected.drop(columns=['high_debts', 'debts'])\n",
        "y = df_selected['high_debts']\n"
      ],
      "metadata": {
        "id": "GB-G-MJOBThO"
      },
      "execution_count": null,
      "outputs": []
    },
    {
      "cell_type": "code",
      "source": [
        "#Разбиваем данные на обучающую (80%) и тестовую (20%) выборки.\n",
        "\n",
        "#Стратификация гарантирует сохранение пропорций классов в обеих выборках.\n",
        "\n",
        "\n",
        "X_train, X_test, y_train, y_test = train_test_split(\n",
        "    X, y, test_size=0.2, random_state=42, stratify=y\n",
        ")\n"
      ],
      "metadata": {
        "id": "oDDujAQ3BkWu"
      },
      "execution_count": null,
      "outputs": []
    },
    {
      "cell_type": "code",
      "source": [
        "#Масштабируем признаки двумя способами:\n",
        "\n",
        "          #StandardScaler - центрирует и масштабирует к среднему 0 и стандартному отклонению 1, подходит для f_classif.\n",
        "\n",
        "                             #MinMaxScaler - масштабирует в диапазон , подходит для chi2.\n",
        "\n",
        "                                          #Это необходимо для корректной работы методов отбора признаков.\n",
        "\n",
        "\n",
        "\n",
        "\n",
        "scaler_std = StandardScaler()\n",
        "X_train_scaled = scaler_std.fit_transform(X_train)\n",
        "X_test_scaled = scaler_std.transform(X_test)\n",
        "\n",
        "scaler_minmax = MinMaxScaler()\n",
        "X_train_minmax = scaler_minmax.fit_transform(X_train)\n",
        "X_test_minmax = scaler_minmax.transform(X_test)\n"
      ],
      "metadata": {
        "id": "fh06eaOZBu_V"
      },
      "execution_count": null,
      "outputs": []
    },
    {
      "cell_type": "code",
      "source": [
        "#Для каждого количества признаков от 1 до max_features выбираем лучшие признаки с помощью SelectKBest и функции оценки (f_classif или chi2).\n",
        "\n",
        "#Обучаем RandomForestRegressor на выбранных признаках и оцениваем качество на тесте с помощью R².\n",
        "\n",
        "#Строим график зависимости R² от числа признаков, чтобы увидеть, сколько признаков достаточно для хорошей модели.\n",
        "\n",
        "#Возвращаем выбранные признаки и результаты для анализа.\n",
        "\n",
        "\n",
        "\n",
        "def evaluate_feature_selection(score_func, score_func_name, X_train, X_test, y_train, y_test, feature_names, max_features=10):\n",
        "    feature_counts = list(range(1, min(X_train.shape[1], max_features) + 1))\n",
        "    scores = []\n",
        "    selected_features_dict = {}\n",
        "\n",
        "    for k in feature_counts:\n",
        "        selector = SelectKBest(score_func, k=k)\n",
        "        X_train_sel = selector.fit_transform(X_train, y_train)\n",
        "        X_test_sel = selector.transform(X_test)\n",
        "\n",
        "        model = RandomForestRegressor(random_state=42)\n",
        "        model.fit(X_train_sel, y_train)\n",
        "        y_pred = model.predict(X_test_sel)\n",
        "\n",
        "        r2 = r2_score(y_test, y_pred)\n",
        "        scores.append(r2)\n",
        "\n",
        "        selected = [f for f, s in zip(feature_names, selector.get_support()) if s]\n",
        "        selected_features_dict[k] = selected\n",
        "\n",
        "    plt.figure(figsize=(10,6))\n",
        "    plt.plot(feature_counts, scores, marker='o', label=score_func_name)\n",
        "    plt.xlabel('Количество признаков')\n",
        "    plt.ylabel('R² (коэффициент детерминации)')\n",
        "    plt.title(f'Зависимость R² от количества признаков ({score_func_name})')\n",
        "    plt.legend()\n",
        "    plt.grid(True)\n",
        "    plt.show()\n",
        "\n",
        "    return feature_counts, scores, selected_features_dict\n"
      ],
      "metadata": {
        "id": "QMY9aNRYCTt1"
      },
      "execution_count": null,
      "outputs": []
    },
    {
      "cell_type": "code",
      "source": [
        "#Создаём таблицу с результатами для обоих методов отбора: количество признаков, R² и выбранные признаки.\n",
        "\n",
        "                                                  #Выводим первые 10 строк и сохраняем в CSV для удобного анализа.\n",
        "\n",
        "results_df = pd.DataFrame({\n",
        "    'Количество признаков': fc_counts,\n",
        "    'R² (f_classif)': fc_scores,\n",
        "    'Выбранные признаки (f_classif)': [\", \".join(fc_features[k]) for k in fc_counts],\n",
        "    'R² (chi2)': chi_scores,\n",
        "    'Выбранные признаки (chi2)': [\", \".join(chi_features[k]) for k in chi_counts],\n",
        "})\n",
        "\n",
        "print(results_df.head(10))\n",
        "results_df.to_csv('feature_selection_results.csv', index=False)\n",
        "print(\"Результаты сохранены в 'feature_selection_results.csv'\")\n"
      ],
      "metadata": {
        "id": "HgajQ7JECm6O"
      },
      "execution_count": null,
      "outputs": []
    },
    {
      "cell_type": "code",
      "source": [
        "#Обучаем Random Forest на всех признаках (масштабированных StandardScaler).\n",
        "\n",
        "#Получаем и визуализируем важность каждого признака - это помогает понять, какие признаки наиболее влиятельны для модели.\n",
        "\n",
        "\n",
        "\n",
        "model_rf = RandomForestRegressor(random_state=42)\n",
        "model_rf.fit(X_train_scaled, y_train)\n",
        "\n",
        "importances = pd.Series(model_rf.feature_importances_, index=feature_names).sort_values(ascending=True)\n",
        "\n",
        "plt.figure(figsize=(10,6))\n",
        "importances.plot(kind='barh', color='teal')\n",
        "plt.title('Важность признаков (Random Forest)')\n",
        "plt.xlabel('Важность')\n",
        "plt.show()\n"
      ],
      "metadata": {
        "id": "iE_TnaYtC1UV"
      },
      "execution_count": null,
      "outputs": []
    }
  ]
}