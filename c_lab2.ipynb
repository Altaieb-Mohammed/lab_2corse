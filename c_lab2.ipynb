{
  "nbformat": 4,
  "nbformat_minor": 0,
  "metadata": {
    "colab": {
      "provenance": [],
      "authorship_tag": "ABX9TyNSLX6Ugx+4gaodVyfqFmxl",
      "include_colab_link": true
    },
    "kernelspec": {
      "name": "python3",
      "display_name": "Python 3"
    },
    "language_info": {
      "name": "python"
    }
  },
  "cells": [
    {
      "cell_type": "markdown",
      "metadata": {
        "id": "view-in-github",
        "colab_type": "text"
      },
      "source": [
        "<a href=\"https://colab.research.google.com/github/Altaieb-Mohammed/lab_2corse/blob/master/c_lab2.ipynb\" target=\"_parent\"><img src=\"https://colab.research.google.com/assets/colab-badge.svg\" alt=\"Open In Colab\"/></a>"
      ]
    },
    {
      "cell_type": "code",
      "source": [
        "import pandas as pd\n",
        "import matplotlib.pyplot as plt\n",
        "import seaborn as sns\n",
        "\n",
        "# Загрузим данные\n",
        "df = pd.read_csv('inheritance_dataset.csv')\n",
        "\n",
        "# Определим числовые и категориальные признаки\n",
        "numerical_features = ['estate', 'debts', 'wills', 'share_husband', 'share_wife',\n",
        "                      'share_father', 'share_mother', 'share_sons', 'share_daughters']\n",
        "categorical_features = ['husband', 'wives', 'father', 'mother', 'sons', 'daughters',\n",
        "                        'brothers_m', 'sisters_m', 'grandfather', 'grandmother']\n"
      ],
      "metadata": {
        "id": "k05tPVQyTyqS"
      },
      "execution_count": null,
      "outputs": []
    }
  ]
}